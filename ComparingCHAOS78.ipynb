{
 "cells": [
  {
   "cell_type": "code",
   "execution_count": 22,
   "id": "62ace536-c1dd-4ec8-b1d1-fe3df868468a",
   "metadata": {},
   "outputs": [],
   "source": [
    "import pandas as pd\n",
    "\n",
    "observatory='LER'\n",
    "\n",
    "PATH = '/mnt/c/users/s1725621/Documents/PhDCode/Git/CrossformerTimeSeries/Data/'\n",
    "PATH1 = '/mnt/c/users/s1725621/Documents/PhDCode/Git/dBdtPrediction/data/' \n",
    "\n",
    "file1 = PATH + 'OMNImergeLER19982020NaNspersistencenoPECHAOS7NaNszeros.csv'#CHAOS7\n",
    "file2 = PATH + 'OMNImergeLER19982025NaNspersistencenodstkpetc.csv'#Neither?????\n",
    "file3 = PATH + 'OMNImergeLER19982020withPosEnc_reorderedCHAOS8NaNszeros.csv'#CHAOS8\n",
    "file4 = PATH + 'OMNImergeLER19982020withPosEncCHAOS8.csv'#CHAOS8\n",
    "file5 = PATH1 + 'LER19982020.csv'#CHAOS7\n",
    "file6 = PATH + 'OMNImergeLER19982020NaNspersistencenoPECHAOS8noknodbdtetc.csv'###CHAOS7"
   ]
  },
  {
   "cell_type": "code",
   "execution_count": 5,
   "id": "81380dfe-9170-4d2a-8549-2bb5a2f4f093",
   "metadata": {},
   "outputs": [
    {
     "name": "stdout",
     "output_type": "stream",
     "text": [
      "               Timestamp       B_N        B_E        B_C       B_H      dBdt  \\\n",
      "0    1998-01-01 00:00:00  2.986431 -30.735754  12.413619 -4.953068  0.000000   \n",
      "1    1998-01-01 00:01:00  2.685543 -30.765657  12.712690 -5.255430 -0.302362   \n",
      "2    1998-01-01 00:02:00  2.485527 -30.785560  12.712053 -5.456428 -0.200998   \n",
      "3    1998-01-01 00:03:00  2.724636 -31.195463  13.012695 -5.256029  0.200398   \n",
      "4    1998-01-01 00:04:00  2.624329 -31.205366  13.112348 -5.356822 -0.100792   \n",
      "..                   ...       ...        ...        ...       ...       ...   \n",
      "995  1998-01-01 16:35:00  3.130758 -20.609426  22.259096 -3.873577  0.099041   \n",
      "996  1998-01-01 16:36:00  3.361903 -21.019329  21.859711 -3.681400  0.192177   \n",
      "997  1998-01-01 16:37:00  3.133050 -20.609232  21.458989 -3.871275 -0.189875   \n",
      "998  1998-01-01 16:38:00  3.422741 -20.579135  21.559776 -3.580041  0.291234   \n",
      "999  1998-01-01 16:39:00  3.422433 -20.579038  21.659721 -3.580338 -0.000297   \n",
      "\n",
      "     BY_GSM  BZ_GSM  flow_speed  proton_density         T  Pressure   KP  \\\n",
      "0      5.41    2.31  357.600006            6.85  100711.0      1.75  7.0   \n",
      "1      5.51    1.92  357.600006            6.85  100711.0      1.75  7.0   \n",
      "2      4.04    1.59  351.600006            4.74   75882.0      1.17  7.0   \n",
      "3      4.72    0.29  358.100006            6.24  100646.0      1.60  7.0   \n",
      "4      4.22    3.00  365.600006            7.27  117669.0      1.94  7.0   \n",
      "..      ...     ...         ...             ...       ...       ...  ...   \n",
      "995    1.75    1.53    0.000000            0.00       0.0      0.00  7.0   \n",
      "996    2.18    1.57  315.200012            5.17   50880.0      1.03  7.0   \n",
      "997    2.56    1.64  315.200012            5.17   50880.0      1.03  7.0   \n",
      "998    2.12    1.59    0.000000            0.00       0.0      0.00  7.0   \n",
      "999    2.01    1.65    0.000000            0.00       0.0      0.00  7.0   \n",
      "\n",
      "      DST        mlt  percentages  sunspotnum  \n",
      "0    -9.0  23.921133     0.000000         4.6  \n",
      "1    -9.0  23.937800     0.000190         4.6  \n",
      "2    -9.0  23.954467     0.000381         4.6  \n",
      "3    -9.0  23.971133     0.000571         4.6  \n",
      "4    -9.0  23.987800     0.000761         4.6  \n",
      "..    ...        ...          ...         ...  \n",
      "995 -17.0  16.504467     0.189307         4.6  \n",
      "996 -17.0  16.521133     0.189498         4.6  \n",
      "997 -17.0  16.537800     0.189688         4.6  \n",
      "998 -17.0  16.554467     0.189878         4.6  \n",
      "999 -17.0  16.571133     0.190068         4.6  \n",
      "\n",
      "[1000 rows x 17 columns]\n"
     ]
    }
   ],
   "source": [
    "chunksize = 1000  # adjust based on your RAM\n",
    "\n",
    "no=0\n",
    "\n",
    "with pd.read_csv(file1, chunksize=chunksize) as reader:\n",
    "    for i, chunk in enumerate(reader):\n",
    "\n",
    "        print(chunk)\n",
    "        no+=1\n",
    "        if no ==1:\n",
    "            break\n",
    "        "
   ]
  },
  {
   "cell_type": "code",
   "execution_count": 7,
   "id": "1200c0e2-16bc-4d92-8b17-25fc1de808a9",
   "metadata": {},
   "outputs": [
    {
     "name": "stdout",
     "output_type": "stream",
     "text": [
      "               Timestamp       B_N        B_E        B_C  BY_GSM  BZ_GSM  \\\n",
      "0    1998-01-01 00:00:00  1.190157 -36.219987  13.263996    5.41    2.31   \n",
      "1    1998-01-01 00:01:00  0.889271 -36.249890  13.563068    5.51    1.92   \n",
      "2    1998-01-01 00:02:00  0.689257 -36.269793  13.562431    4.04    1.59   \n",
      "3    1998-01-01 00:03:00  0.928369 -36.679696  13.863073    4.72    0.29   \n",
      "4    1998-01-01 00:04:00  0.828063 -36.689599  13.962727    4.22    3.00   \n",
      "..                   ...       ...        ...        ...     ...     ...   \n",
      "995  1998-01-01 16:35:00  1.336466 -26.093421  23.109738    1.75    1.53   \n",
      "996  1998-01-01 16:36:00  1.567613 -26.503324  22.710353    2.18    1.57   \n",
      "997  1998-01-01 16:37:00  1.338762 -26.093227  22.309631    2.56    1.64   \n",
      "998  1998-01-01 16:38:00  1.628455 -26.063130  22.410419    2.12    1.59   \n",
      "999  1998-01-01 16:39:00  1.628149 -26.063033  22.510363    2.01    1.65   \n",
      "\n",
      "     flow_speed  proton_density         T  Pressure  \n",
      "0    357.600006            6.85  100711.0      1.75  \n",
      "1    357.600006            6.85  100711.0      1.75  \n",
      "2    351.600006            4.74   75882.0      1.17  \n",
      "3    358.100006            6.24  100646.0      1.60  \n",
      "4    365.600006            7.27  117669.0      1.94  \n",
      "..          ...             ...       ...       ...  \n",
      "995    0.000000            0.00       0.0      0.00  \n",
      "996  315.200012            5.17   50880.0      1.03  \n",
      "997  315.200012            5.17   50880.0      1.03  \n",
      "998    0.000000            0.00       0.0      0.00  \n",
      "999    0.000000            0.00       0.0      0.00  \n",
      "\n",
      "[1000 rows x 10 columns]\n"
     ]
    }
   ],
   "source": [
    "no=0\n",
    "\n",
    "with pd.read_csv(file2, chunksize=chunksize) as reader:\n",
    "    for i, chunk in enumerate(reader):\n",
    "\n",
    "        print(chunk)\n",
    "        no+=1\n",
    "        if no ==1:\n",
    "            break\n",
    "        "
   ]
  },
  {
   "cell_type": "code",
   "execution_count": 14,
   "id": "fb4741ea-797d-4679-9c0f-95b34e6f8f58",
   "metadata": {},
   "outputs": [
    {
     "name": "stdout",
     "output_type": "stream",
     "text": [
      "               Timestamp       B_N        B_E        B_C       B_H      dBdt  \\\n",
      "0    1998-01-01 00:00:00  1.195559 -31.690209  13.017694 -6.822092  0.000000   \n",
      "1    1998-01-01 00:01:00  0.894673 -31.720111  13.316765 -7.124452 -0.302360   \n",
      "2    1998-01-01 00:02:00  0.694659 -31.740013  13.316128 -7.325448 -0.200996   \n",
      "3    1998-01-01 00:03:00  0.933771 -32.149915  13.616769 -7.125048  0.200400   \n",
      "4    1998-01-01 00:04:00  0.833465 -32.159818  13.716422 -7.225838 -0.100790   \n",
      "..                   ...       ...        ...        ...       ...       ...   \n",
      "995  1998-01-01 16:35:00  1.341732 -21.562877  22.862995 -5.740661  0.099043   \n",
      "996  1998-01-01 16:36:00  1.572878 -21.972780  22.463610 -5.548482  0.192179   \n",
      "997  1998-01-01 16:37:00  1.344027 -21.562682  22.062887 -5.738356 -0.189873   \n",
      "998  1998-01-01 16:38:00  1.633720 -21.532584  22.163675 -5.447119  0.291236   \n",
      "999  1998-01-01 16:39:00  1.633414 -21.532486  22.263619 -5.447414 -0.000295   \n",
      "\n",
      "     BY_GSM  BZ_GSM  flow_speed  proton_density         T  Pressure   KP  \\\n",
      "0      5.41    2.31  357.600006            6.85  100711.0      1.75  7.0   \n",
      "1      5.51    1.92  357.600006            6.85  100711.0      1.75  7.0   \n",
      "2      4.04    1.59  351.600006            4.74   75882.0      1.17  7.0   \n",
      "3      4.72    0.29  358.100006            6.24  100646.0      1.60  7.0   \n",
      "4      4.22    3.00  365.600006            7.27  117669.0      1.94  7.0   \n",
      "..      ...     ...         ...             ...       ...       ...  ...   \n",
      "995    1.75    1.53    0.000000            0.00       0.0      0.00  7.0   \n",
      "996    2.18    1.57  315.200012            5.17   50880.0      1.03  7.0   \n",
      "997    2.56    1.64  315.200012            5.17   50880.0      1.03  7.0   \n",
      "998    2.12    1.59    0.000000            0.00       0.0      0.00  7.0   \n",
      "999    2.01    1.65    0.000000            0.00       0.0      0.00  7.0   \n",
      "\n",
      "      DST        mlt  percentages  sunspotnum  \n",
      "0    -9.0  23.921133     0.000000         4.6  \n",
      "1    -9.0  23.937800     0.000190         4.6  \n",
      "2    -9.0  23.954467     0.000381         4.6  \n",
      "3    -9.0  23.971133     0.000571         4.6  \n",
      "4    -9.0  23.987800     0.000761         4.6  \n",
      "..    ...        ...          ...         ...  \n",
      "995 -17.0  16.504467     0.189307         4.6  \n",
      "996 -17.0  16.521133     0.189498         4.6  \n",
      "997 -17.0  16.537800     0.189688         4.6  \n",
      "998 -17.0  16.554467     0.189878         4.6  \n",
      "999 -17.0  16.571133     0.190068         4.6  \n",
      "\n",
      "[1000 rows x 17 columns]\n"
     ]
    }
   ],
   "source": [
    "no=0\n",
    "\n",
    "with pd.read_csv(file3, chunksize=chunksize) as reader:\n",
    "    for i, chunk in enumerate(reader):\n",
    "\n",
    "        print(chunk)\n",
    "        no+=1\n",
    "        if no ==1:\n",
    "            break\n",
    "        "
   ]
  },
  {
   "cell_type": "code",
   "execution_count": 16,
   "id": "ebdb96af-2106-4045-9076-28bf17d3b402",
   "metadata": {},
   "outputs": [
    {
     "name": "stdout",
     "output_type": "stream",
     "text": [
      "               Timestamp       B_N        B_E        B_C       B_H      dBdt  \\\n",
      "0    1998-01-01 00:00:00  1.195559 -31.690209  13.017694 -6.822092       NaN   \n",
      "1    1998-01-01 00:01:00  0.894673 -31.720111  13.316765 -7.124452 -0.302360   \n",
      "2    1998-01-01 00:02:00  0.694659 -31.740013  13.316128 -7.325448 -0.200996   \n",
      "3    1998-01-01 00:03:00  0.933771 -32.149915  13.616769 -7.125048  0.200400   \n",
      "4    1998-01-01 00:04:00  0.833465 -32.159818  13.716422 -7.225838 -0.100790   \n",
      "..                   ...       ...        ...        ...       ...       ...   \n",
      "995  1998-01-01 16:35:00  1.341732 -21.562877  22.862995 -5.740661  0.099043   \n",
      "996  1998-01-01 16:36:00  1.572878 -21.972780  22.463610 -5.548482  0.192179   \n",
      "997  1998-01-01 16:37:00  1.344027 -21.562682  22.062887 -5.738356 -0.189873   \n",
      "998  1998-01-01 16:38:00  1.633720 -21.532584  22.163675 -5.447119  0.291236   \n",
      "999  1998-01-01 16:39:00  1.633414 -21.532486  22.263619 -5.447414 -0.000295   \n",
      "\n",
      "     BY_GSM  BZ_GSM  flow_speed  proton_density         T  Pressure   KP   DST  \n",
      "0      5.41    2.31  357.600006            6.85  100711.0      1.75  7.0  -9.0  \n",
      "1      5.51    1.92  357.600006            6.85  100711.0      1.75  7.0  -9.0  \n",
      "2      4.04    1.59  351.600006            4.74   75882.0      1.17  7.0  -9.0  \n",
      "3      4.72    0.29  358.100006            6.24  100646.0      1.60  7.0  -9.0  \n",
      "4      4.22    3.00  365.600006            7.27  117669.0      1.94  7.0  -9.0  \n",
      "..      ...     ...         ...             ...       ...       ...  ...   ...  \n",
      "995    1.75    1.53         NaN             NaN       NaN       NaN  7.0 -17.0  \n",
      "996    2.18    1.57  315.200012            5.17   50880.0      1.03  7.0 -17.0  \n",
      "997    2.56    1.64  315.200012            5.17   50880.0      1.03  7.0 -17.0  \n",
      "998    2.12    1.59         NaN             NaN       NaN       NaN  7.0 -17.0  \n",
      "999    2.01    1.65         NaN             NaN       NaN       NaN  7.0 -17.0  \n",
      "\n",
      "[1000 rows x 14 columns]\n"
     ]
    }
   ],
   "source": [
    "no=0\n",
    "\n",
    "with pd.read_csv(file4, chunksize=chunksize) as reader:\n",
    "    for i, chunk in enumerate(reader):\n",
    "\n",
    "        print(chunk)\n",
    "        no+=1\n",
    "        if no ==1:\n",
    "            break\n",
    "        "
   ]
  },
  {
   "cell_type": "code",
   "execution_count": 20,
   "id": "9430b264-0aec-4929-b1dd-0c3f159a3bcc",
   "metadata": {},
   "outputs": [
    {
     "name": "stdout",
     "output_type": "stream",
     "text": [
      "               Timestamp       B_N        B_E        B_C       B_H      dBdt\n",
      "0    1998-01-01 00:00:00  2.986431 -30.735754  12.413619 -4.953068       NaN\n",
      "1    1998-01-01 00:01:00  2.685543 -30.765657  12.712690 -5.255430 -0.302362\n",
      "2    1998-01-01 00:02:00  2.485527 -30.785560  12.712053 -5.456428 -0.200998\n",
      "3    1998-01-01 00:03:00  2.724636 -31.195463  13.012695 -5.256029  0.200398\n",
      "4    1998-01-01 00:04:00  2.624329 -31.205366  13.112348 -5.356822 -0.100792\n",
      "..                   ...       ...        ...        ...       ...       ...\n",
      "995  1998-01-01 16:35:00  3.130758 -20.609426  22.259096 -3.873577  0.099041\n",
      "996  1998-01-01 16:36:00  3.361903 -21.019329  21.859711 -3.681400  0.192177\n",
      "997  1998-01-01 16:37:00  3.133050 -20.609232  21.458989 -3.871275 -0.189875\n",
      "998  1998-01-01 16:38:00  3.422741 -20.579135  21.559776 -3.580041  0.291234\n",
      "999  1998-01-01 16:39:00  3.422433 -20.579038  21.659721 -3.580338 -0.000297\n",
      "\n",
      "[1000 rows x 6 columns]\n"
     ]
    }
   ],
   "source": [
    "no=0\n",
    "\n",
    "with pd.read_csv(file5, chunksize=chunksize) as reader:\n",
    "    for i, chunk in enumerate(reader):\n",
    "\n",
    "        print(chunk)\n",
    "        no+=1\n",
    "        if no ==1:\n",
    "            break\n",
    "        "
   ]
  },
  {
   "cell_type": "code",
   "execution_count": 23,
   "id": "5c0c5978-b766-4d29-b9db-94ad441c79f6",
   "metadata": {},
   "outputs": [
    {
     "name": "stdout",
     "output_type": "stream",
     "text": [
      "               Timestamp       B_N        B_E        B_C  BY_GSM  BZ_GSM  \\\n",
      "0    1998-01-01 00:00:00  2.986431 -30.735754  12.413619    5.41    2.31   \n",
      "1    1998-01-01 00:01:00  2.685543 -30.765657  12.712690    5.51    1.92   \n",
      "2    1998-01-01 00:02:00  2.485527 -30.785560  12.712053    4.04    1.59   \n",
      "3    1998-01-01 00:03:00  2.724636 -31.195463  13.012695    4.72    0.29   \n",
      "4    1998-01-01 00:04:00  2.624329 -31.205366  13.112348    4.22    3.00   \n",
      "..                   ...       ...        ...        ...     ...     ...   \n",
      "995  1998-01-01 16:35:00  3.130758 -20.609426  22.259096    1.75    1.53   \n",
      "996  1998-01-01 16:36:00  3.361903 -21.019329  21.859711    2.18    1.57   \n",
      "997  1998-01-01 16:37:00  3.133050 -20.609232  21.458989    2.56    1.64   \n",
      "998  1998-01-01 16:38:00  3.422741 -20.579135  21.559776    2.12    1.59   \n",
      "999  1998-01-01 16:39:00  3.422433 -20.579038  21.659721    2.01    1.65   \n",
      "\n",
      "     flow_speed  proton_density         T  Pressure  \n",
      "0    357.600006            6.85  100711.0      1.75  \n",
      "1    357.600006            6.85  100711.0      1.75  \n",
      "2    351.600006            4.74   75882.0      1.17  \n",
      "3    358.100006            6.24  100646.0      1.60  \n",
      "4    365.600006            7.27  117669.0      1.94  \n",
      "..          ...             ...       ...       ...  \n",
      "995  317.600006            5.29   48112.0      1.07  \n",
      "996  315.200012            5.17   50880.0      1.03  \n",
      "997  315.200012            5.17   50880.0      1.03  \n",
      "998  315.200012            5.17   50880.0      1.03  \n",
      "999  315.200012            5.17   50880.0      1.03  \n",
      "\n",
      "[1000 rows x 10 columns]\n"
     ]
    }
   ],
   "source": [
    "chunksize = 1000  # adjust based on your RAM\n",
    "\n",
    "no=0\n",
    "\n",
    "with pd.read_csv(file6, chunksize=chunksize) as reader:\n",
    "    for i, chunk in enumerate(reader):\n",
    "\n",
    "        print(chunk)\n",
    "        no+=1\n",
    "        if no ==1:\n",
    "            break\n",
    "        "
   ]
  },
  {
   "cell_type": "code",
   "execution_count": 42,
   "id": "4885fc4e-baee-4e27-a3ed-99ef421d9ac7",
   "metadata": {},
   "outputs": [
    {
     "name": "stdout",
     "output_type": "stream",
     "text": [
      "DataOMNI19982025.csv 357.6000061035156 nan\n",
      "LER19982020.csv 13.01769387204368 1998-01-01 16:38:00\n",
      "LER19982025.csv 13.26399642028602 1998-01-01 16:38:00\n",
      "OMNI19982020.csv 357.6000061035156 nan\n",
      "OMNImergeLER19982020.csv 13.01769387204368 nan\n",
      "OMNImergeLER19982020NaNspersistencenoPECHAOS7NaNszeros.csv 12.413619136407164 0.0\n",
      "OMNImergeLER19982020NaNspersistencenoPEchaos8.csv 12.413619136407164 1.0299999713897705\n",
      "OMNImergeLER19982020NaNspersistencenoPECHAOS8noknodbdtetc.csv 12.413619136407164 2.119999885559082\n",
      "OMNImergeLER19982020withPosEnc.csv 12.413619136407164 nan\n",
      "OMNImergeLER19982020withPosEncCHAOS8.csv 13.01769387204368 nan\n",
      "OMNImergeLER19982020withPosEnc_reorderedCHAOS.csv 13.01769387204368 nan\n",
      "OMNImergeLER19982020withPosEnc_reorderedCHAOS8NaNszeros.csv 13.01769387204368 0.0\n",
      "OMNImergeLER19982025.csv 13.26399642028602 nan\n",
      "OMNImergeLER19982025NaNspersistence.csv 13.26399642028602 315.20001220703125\n",
      "OMNImergeLER19982025NaNspersistencenodstkpetc.csv 13.26399642028602 2.119999885559082\n",
      "OMNImergeLER19982025NaNspersistence_reorderedstillhaskdst.csv 13.26399642028602 1.0299999713897705\n",
      "OMNImergeLER19982025NaNspersistence_reorderedstillhaskdstNaNscheckedout.csv 13.26399642028602 1.0299999713897705\n",
      "OMNImergeLER19982025withPosEnc_reordered.csv 13.26399642028602 nan\n"
     ]
    },
    {
     "ename": "IndexError",
     "evalue": "index 3 is out of bounds for axis 0 with size 1",
     "output_type": "error",
     "traceback": [
      "\u001b[0;31m---------------------------------------------------------------------------\u001b[0m",
      "\u001b[0;31mIndexError\u001b[0m                                Traceback (most recent call last)",
      "Cell \u001b[0;32mIn[42], line 14\u001b[0m\n\u001b[1;32m     11\u001b[0m \u001b[38;5;28;01mwith\u001b[39;00m pd\u001b[38;5;241m.\u001b[39mread_csv(i, chunksize\u001b[38;5;241m=\u001b[39mchunksize) \u001b[38;5;28;01mas\u001b[39;00m reader:\n\u001b[1;32m     12\u001b[0m     \u001b[38;5;28;01mfor\u001b[39;00m j, chunk \u001b[38;5;129;01min\u001b[39;00m \u001b[38;5;28menumerate\u001b[39m(reader):\n\u001b[0;32m---> 14\u001b[0m         \u001b[38;5;28mprint\u001b[39m(i,\u001b[43mchunk\u001b[49m\u001b[38;5;241;43m.\u001b[39;49m\u001b[43miloc\u001b[49m\u001b[43m[\u001b[49m\u001b[38;5;241;43m0\u001b[39;49m\u001b[43m,\u001b[49m\u001b[38;5;241;43m3\u001b[39;49m\u001b[43m]\u001b[49m,chunk\u001b[38;5;241m.\u001b[39miloc[\u001b[38;5;241m998\u001b[39m,\u001b[38;5;241m-\u001b[39m\u001b[38;5;241m6\u001b[39m])\n\u001b[1;32m     15\u001b[0m         no\u001b[38;5;241m+\u001b[39m\u001b[38;5;241m=\u001b[39m\u001b[38;5;241m1\u001b[39m\n\u001b[1;32m     16\u001b[0m         \u001b[38;5;28;01mif\u001b[39;00m no \u001b[38;5;241m==\u001b[39m\u001b[38;5;241m1\u001b[39m:\n",
      "File \u001b[0;32m~/.local/lib/python3.10/site-packages/pandas/core/indexing.py:1183\u001b[0m, in \u001b[0;36m_LocationIndexer.__getitem__\u001b[0;34m(self, key)\u001b[0m\n\u001b[1;32m   1181\u001b[0m     key \u001b[38;5;241m=\u001b[39m \u001b[38;5;28mtuple\u001b[39m(com\u001b[38;5;241m.\u001b[39mapply_if_callable(x, \u001b[38;5;28mself\u001b[39m\u001b[38;5;241m.\u001b[39mobj) \u001b[38;5;28;01mfor\u001b[39;00m x \u001b[38;5;129;01min\u001b[39;00m key)\n\u001b[1;32m   1182\u001b[0m     \u001b[38;5;28;01mif\u001b[39;00m \u001b[38;5;28mself\u001b[39m\u001b[38;5;241m.\u001b[39m_is_scalar_access(key):\n\u001b[0;32m-> 1183\u001b[0m         \u001b[38;5;28;01mreturn\u001b[39;00m \u001b[38;5;28;43mself\u001b[39;49m\u001b[38;5;241;43m.\u001b[39;49m\u001b[43mobj\u001b[49m\u001b[38;5;241;43m.\u001b[39;49m\u001b[43m_get_value\u001b[49m\u001b[43m(\u001b[49m\u001b[38;5;241;43m*\u001b[39;49m\u001b[43mkey\u001b[49m\u001b[43m,\u001b[49m\u001b[43m \u001b[49m\u001b[43mtakeable\u001b[49m\u001b[38;5;241;43m=\u001b[39;49m\u001b[38;5;28;43mself\u001b[39;49m\u001b[38;5;241;43m.\u001b[39;49m\u001b[43m_takeable\u001b[49m\u001b[43m)\u001b[49m\n\u001b[1;32m   1184\u001b[0m     \u001b[38;5;28;01mreturn\u001b[39;00m \u001b[38;5;28mself\u001b[39m\u001b[38;5;241m.\u001b[39m_getitem_tuple(key)\n\u001b[1;32m   1185\u001b[0m \u001b[38;5;28;01melse\u001b[39;00m:\n\u001b[1;32m   1186\u001b[0m     \u001b[38;5;66;03m# we by definition only have the 0th axis\u001b[39;00m\n",
      "File \u001b[0;32m~/.local/lib/python3.10/site-packages/pandas/core/frame.py:4211\u001b[0m, in \u001b[0;36mDataFrame._get_value\u001b[0;34m(self, index, col, takeable)\u001b[0m\n\u001b[1;32m   4192\u001b[0m \u001b[38;5;250m\u001b[39m\u001b[38;5;124;03m\"\"\"\u001b[39;00m\n\u001b[1;32m   4193\u001b[0m \u001b[38;5;124;03mQuickly retrieve single value at passed column and index.\u001b[39;00m\n\u001b[1;32m   4194\u001b[0m \n\u001b[0;32m   (...)\u001b[0m\n\u001b[1;32m   4208\u001b[0m \u001b[38;5;124;03m`self.columns._index_as_unique`; Caller is responsible for checking.\u001b[39;00m\n\u001b[1;32m   4209\u001b[0m \u001b[38;5;124;03m\"\"\"\u001b[39;00m\n\u001b[1;32m   4210\u001b[0m \u001b[38;5;28;01mif\u001b[39;00m takeable:\n\u001b[0;32m-> 4211\u001b[0m     series \u001b[38;5;241m=\u001b[39m \u001b[38;5;28;43mself\u001b[39;49m\u001b[38;5;241;43m.\u001b[39;49m\u001b[43m_ixs\u001b[49m\u001b[43m(\u001b[49m\u001b[43mcol\u001b[49m\u001b[43m,\u001b[49m\u001b[43m \u001b[49m\u001b[43maxis\u001b[49m\u001b[38;5;241;43m=\u001b[39;49m\u001b[38;5;241;43m1\u001b[39;49m\u001b[43m)\u001b[49m\n\u001b[1;32m   4212\u001b[0m     \u001b[38;5;28;01mreturn\u001b[39;00m series\u001b[38;5;241m.\u001b[39m_values[index]\n\u001b[1;32m   4214\u001b[0m series \u001b[38;5;241m=\u001b[39m \u001b[38;5;28mself\u001b[39m\u001b[38;5;241m.\u001b[39m_get_item_cache(col)\n",
      "File \u001b[0;32m~/.local/lib/python3.10/site-packages/pandas/core/frame.py:4008\u001b[0m, in \u001b[0;36mDataFrame._ixs\u001b[0;34m(self, i, axis)\u001b[0m\n\u001b[1;32m   4004\u001b[0m     \u001b[38;5;28;01mreturn\u001b[39;00m result\n\u001b[1;32m   4006\u001b[0m \u001b[38;5;66;03m# icol\u001b[39;00m\n\u001b[1;32m   4007\u001b[0m \u001b[38;5;28;01melse\u001b[39;00m:\n\u001b[0;32m-> 4008\u001b[0m     label \u001b[38;5;241m=\u001b[39m \u001b[38;5;28;43mself\u001b[39;49m\u001b[38;5;241;43m.\u001b[39;49m\u001b[43mcolumns\u001b[49m\u001b[43m[\u001b[49m\u001b[43mi\u001b[49m\u001b[43m]\u001b[49m\n\u001b[1;32m   4010\u001b[0m     col_mgr \u001b[38;5;241m=\u001b[39m \u001b[38;5;28mself\u001b[39m\u001b[38;5;241m.\u001b[39m_mgr\u001b[38;5;241m.\u001b[39miget(i)\n\u001b[1;32m   4011\u001b[0m     result \u001b[38;5;241m=\u001b[39m \u001b[38;5;28mself\u001b[39m\u001b[38;5;241m.\u001b[39m_box_col_values(col_mgr, i)\n",
      "File \u001b[0;32m~/.local/lib/python3.10/site-packages/pandas/core/indexes/base.py:5389\u001b[0m, in \u001b[0;36mIndex.__getitem__\u001b[0;34m(self, key)\u001b[0m\n\u001b[1;32m   5386\u001b[0m \u001b[38;5;28;01mif\u001b[39;00m is_integer(key) \u001b[38;5;129;01mor\u001b[39;00m is_float(key):\n\u001b[1;32m   5387\u001b[0m     \u001b[38;5;66;03m# GH#44051 exclude bool, which would return a 2d ndarray\u001b[39;00m\n\u001b[1;32m   5388\u001b[0m     key \u001b[38;5;241m=\u001b[39m com\u001b[38;5;241m.\u001b[39mcast_scalar_indexer(key)\n\u001b[0;32m-> 5389\u001b[0m     \u001b[38;5;28;01mreturn\u001b[39;00m \u001b[43mgetitem\u001b[49m\u001b[43m(\u001b[49m\u001b[43mkey\u001b[49m\u001b[43m)\u001b[49m\n\u001b[1;32m   5391\u001b[0m \u001b[38;5;28;01mif\u001b[39;00m \u001b[38;5;28misinstance\u001b[39m(key, \u001b[38;5;28mslice\u001b[39m):\n\u001b[1;32m   5392\u001b[0m     \u001b[38;5;66;03m# This case is separated from the conditional above to avoid\u001b[39;00m\n\u001b[1;32m   5393\u001b[0m     \u001b[38;5;66;03m# pessimization com.is_bool_indexer and ndim checks.\u001b[39;00m\n\u001b[1;32m   5394\u001b[0m     \u001b[38;5;28;01mreturn\u001b[39;00m \u001b[38;5;28mself\u001b[39m\u001b[38;5;241m.\u001b[39m_getitem_slice(key)\n",
      "\u001b[0;31mIndexError\u001b[0m: index 3 is out of bounds for axis 0 with size 1"
     ]
    }
   ],
   "source": [
    "\n",
    "import glob\n",
    "\n",
    "# Replace 'your_folder_path' with the actual path\n",
    "csv_files = glob.glob(\"*.csv\")\n",
    "\n",
    "chunksize = 1000  # adjust based on your RAM\n",
    "\n",
    "for i in csv_files:\n",
    "    no=0\n",
    "\n",
    "    with pd.read_csv(i, chunksize=chunksize) as reader:\n",
    "        for j, chunk in enumerate(reader):\n",
    "    \n",
    "            print(i,chunk.iloc[0,3],chunk.iloc[998,-6])\n",
    "            no+=1\n",
    "            if no ==1:\n",
    "                break\n",
    "\n",
    "#12.413: CHA0S-8.\n",
    "#13.017: CHAOS-7.\n",
    "#13.264: Apparently CHAOS-8 but increasing to 2025 means the model extrapolates somewhere and changes a lot of the values!"
   ]
  },
  {
   "cell_type": "code",
   "execution_count": null,
   "id": "ccde51a3-faad-43c4-bb0e-0670f57bc6b6",
   "metadata": {},
   "outputs": [],
   "source": []
  }
 ],
 "metadata": {
  "kernelspec": {
   "display_name": "Python 3 (ipykernel)",
   "language": "python",
   "name": "python3"
  },
  "language_info": {
   "codemirror_mode": {
    "name": "ipython",
    "version": 3
   },
   "file_extension": ".py",
   "mimetype": "text/x-python",
   "name": "python",
   "nbconvert_exporter": "python",
   "pygments_lexer": "ipython3",
   "version": "3.10.12"
  }
 },
 "nbformat": 4,
 "nbformat_minor": 5
}
