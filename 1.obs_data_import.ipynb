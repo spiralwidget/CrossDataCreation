{
 "cells": [
  {
   "cell_type": "markdown",
   "id": "239fc260",
   "metadata": {},
   "source": [
    "# Data import for given station and given time period. Import also allows for parameter selection in output file."
   ]
  },
  {
   "cell_type": "code",
   "execution_count": 2,
   "id": "67516318",
   "metadata": {},
   "outputs": [],
   "source": [
    "from viresclient import SwarmRequest\n",
    "import hapiclient\n",
    "from hapiclient.util import pythonshell\n",
    "import pandas as pd\n",
    "import xarray as xr\n",
    "import numpy as np\n",
    "import matplotlib.pyplot as plt\n",
    "from datetime import datetime, timedelta\n",
    "from chaosmagpy import load_CHAOS_matfile\n",
    "from chaosmagpy.model_utils import synth_values\n",
    "from chaosmagpy.data_utils import mjd2000 # Modified Julian date\n",
    "\n",
    "import utils"
   ]
  },
  {
   "cell_type": "markdown",
   "id": "79b3794f",
   "metadata": {},
   "source": [
    "The objective of this notebook is to download the full input data for a period of time and a given station. This notebook then exports the data to a csv file."
   ]
  },
  {
   "cell_type": "code",
   "execution_count": 8,
   "id": "d5d19015",
   "metadata": {},
   "outputs": [
    {
     "name": "stdout",
     "output_type": "stream",
     "text": [
      "\n",
      "Accessing INTERMAGNET and/or WDC data\n",
      "Check usage terms at ftp://ftp.nerc-murchison.ac.uk/geomag/Swarm/AUX_OBS/minute/README\n",
      "\n"
     ]
    },
    {
     "data": {
      "application/vnd.jupyter.widget-view+json": {
       "model_id": "9feebd38d3184d609e73366d3fed088a",
       "version_major": 2,
       "version_minor": 0
      },
      "text/plain": [
       "Processing:    0%|          |  [ Elapsed: 00:00, Remaining: ? ] [1/1] "
      ]
     },
     "metadata": {},
     "output_type": "display_data"
    },
    {
     "data": {
      "application/vnd.jupyter.widget-view+json": {
       "model_id": "c0c246887a254668818d31a304302d3c",
       "version_major": 2,
       "version_minor": 0
      },
      "text/plain": [
       "Downloading:   0%|          |  [ Elapsed: 00:00, Remaining: ? ] (0.166MB)"
      ]
     },
     "metadata": {},
     "output_type": "display_data"
    }
   ],
   "source": [
    "###Define station and time parameters, and OMNI parameters.\n",
    "\n",
    "### Time parameters\n",
    "start_date= 1998\n",
    "end_date=2020\n",
    "\n",
    "### Observatory parameters\n",
    "observatory='LER' \n",
    "\n",
    "### Download observatory metadata:\n",
    "obsmeta = utils.fetch_ground_obs(observatory,'1998-01-01','1998-01-03')\n",
    "latitude = obsmeta.attrs['Latitude_GEO']\n",
    "longitude_deg = obsmeta.attrs['Longitude_GEO']\n",
    "radius = obsmeta.attrs['Radius_GEO']\n",
    "\n",
    "\n",
    "###OPTIONAL: input radius, latitude,longitude manually\n",
    "#latitude=55.31\n",
    "#longitude_deg=356.79 ##longitude is in degrees from Prime Meridian, i.e. 1 degree west is 359 degrees\n",
    "#radius= 6371"
   ]
  },
  {
   "cell_type": "code",
   "execution_count": 9,
   "id": "a698a485",
   "metadata": {},
   "outputs": [
    {
     "name": "stdout",
     "output_type": "stream",
     "text": [
      "list of years to be downloaded:\n",
      "DatetimeIndex(['1998-01-01', '1999-01-01', '2000-01-01', '2001-01-01',\n",
      "               '2002-01-01', '2003-01-01', '2004-01-01', '2005-01-01',\n",
      "               '2006-01-01', '2007-01-01', '2008-01-01', '2009-01-01',\n",
      "               '2010-01-01', '2011-01-01', '2012-01-01', '2013-01-01',\n",
      "               '2014-01-01', '2015-01-01', '2016-01-01', '2017-01-01',\n",
      "               '2018-01-01', '2019-01-01', '2020-01-01'],\n",
      "              dtype='datetime64[ns]', freq='YS-JAN')\n"
     ]
    }
   ],
   "source": [
    "###Step 1; Get year data into correct time indexing format\n",
    "\n",
    "\n",
    "start_date_str= f'{start_date}-01-01'\n",
    "end_date_str=f'{end_date}-01-01'\n",
    "\n",
    "year_range=pd.date_range(start_date_str, end_date_str, freq='1YS')\n",
    "\n",
    "print('list of years to be downloaded:')\n",
    "print(year_range)"
   ]
  },
  {
   "cell_type": "code",
   "execution_count": 10,
   "id": "ba5a4c59",
   "metadata": {},
   "outputs": [
    {
     "data": {
      "text/html": [
       "<div>\n",
       "<style scoped>\n",
       "    .dataframe tbody tr th:only-of-type {\n",
       "        vertical-align: middle;\n",
       "    }\n",
       "\n",
       "    .dataframe tbody tr th {\n",
       "        vertical-align: top;\n",
       "    }\n",
       "\n",
       "    .dataframe thead th {\n",
       "        text-align: right;\n",
       "    }\n",
       "</style>\n",
       "<table border=\"1\" class=\"dataframe\">\n",
       "  <thead>\n",
       "    <tr style=\"text-align: right;\">\n",
       "      <th></th>\n",
       "      <th>B_radius</th>\n",
       "      <th>B_phi</th>\n",
       "      <th>B_theta</th>\n",
       "      <th>B_H</th>\n",
       "    </tr>\n",
       "  </thead>\n",
       "  <tbody>\n",
       "    <tr>\n",
       "      <th>1998-01-01 00:00:00</th>\n",
       "      <td>-47935.869306</td>\n",
       "      <td>-1537.382106</td>\n",
       "      <td>-14810.179214</td>\n",
       "      <td>14889.759974</td>\n",
       "    </tr>\n",
       "    <tr>\n",
       "      <th>1998-01-01 00:01:00</th>\n",
       "      <td>-47935.869361</td>\n",
       "      <td>-1537.382008</td>\n",
       "      <td>-14810.179229</td>\n",
       "      <td>14889.759979</td>\n",
       "    </tr>\n",
       "    <tr>\n",
       "      <th>1998-01-01 00:02:00</th>\n",
       "      <td>-47935.869417</td>\n",
       "      <td>-1537.381910</td>\n",
       "      <td>-14810.179244</td>\n",
       "      <td>14889.759985</td>\n",
       "    </tr>\n",
       "    <tr>\n",
       "      <th>1998-01-01 00:03:00</th>\n",
       "      <td>-47935.869472</td>\n",
       "      <td>-1537.381812</td>\n",
       "      <td>-14810.179259</td>\n",
       "      <td>14889.759990</td>\n",
       "    </tr>\n",
       "    <tr>\n",
       "      <th>1998-01-01 00:04:00</th>\n",
       "      <td>-47935.869528</td>\n",
       "      <td>-1537.381714</td>\n",
       "      <td>-14810.179275</td>\n",
       "      <td>14889.759995</td>\n",
       "    </tr>\n",
       "    <tr>\n",
       "      <th>...</th>\n",
       "      <td>...</td>\n",
       "      <td>...</td>\n",
       "      <td>...</td>\n",
       "      <td>...</td>\n",
       "    </tr>\n",
       "    <tr>\n",
       "      <th>2020-12-30 23:56:00</th>\n",
       "      <td>-48597.544692</td>\n",
       "      <td>-327.077275</td>\n",
       "      <td>-15025.970872</td>\n",
       "      <td>15029.530271</td>\n",
       "    </tr>\n",
       "    <tr>\n",
       "      <th>2020-12-30 23:57:00</th>\n",
       "      <td>-48597.544692</td>\n",
       "      <td>-327.077275</td>\n",
       "      <td>-15025.970872</td>\n",
       "      <td>15029.530271</td>\n",
       "    </tr>\n",
       "    <tr>\n",
       "      <th>2020-12-30 23:58:00</th>\n",
       "      <td>-48597.544692</td>\n",
       "      <td>-327.077275</td>\n",
       "      <td>-15025.970872</td>\n",
       "      <td>15029.530271</td>\n",
       "    </tr>\n",
       "    <tr>\n",
       "      <th>2020-12-30 23:59:00</th>\n",
       "      <td>-48597.544692</td>\n",
       "      <td>-327.077275</td>\n",
       "      <td>-15025.970872</td>\n",
       "      <td>15029.530271</td>\n",
       "    </tr>\n",
       "    <tr>\n",
       "      <th>2020-12-31 00:00:00</th>\n",
       "      <td>-48597.544692</td>\n",
       "      <td>-327.077275</td>\n",
       "      <td>-15025.970872</td>\n",
       "      <td>15029.530271</td>\n",
       "    </tr>\n",
       "  </tbody>\n",
       "</table>\n",
       "<p>12096001 rows × 4 columns</p>\n",
       "</div>"
      ],
      "text/plain": [
       "                         B_radius        B_phi       B_theta           B_H\n",
       "1998-01-01 00:00:00 -47935.869306 -1537.382106 -14810.179214  14889.759974\n",
       "1998-01-01 00:01:00 -47935.869361 -1537.382008 -14810.179229  14889.759979\n",
       "1998-01-01 00:02:00 -47935.869417 -1537.381910 -14810.179244  14889.759985\n",
       "1998-01-01 00:03:00 -47935.869472 -1537.381812 -14810.179259  14889.759990\n",
       "1998-01-01 00:04:00 -47935.869528 -1537.381714 -14810.179275  14889.759995\n",
       "...                           ...          ...           ...           ...\n",
       "2020-12-30 23:56:00 -48597.544692  -327.077275 -15025.970872  15029.530271\n",
       "2020-12-30 23:57:00 -48597.544692  -327.077275 -15025.970872  15029.530271\n",
       "2020-12-30 23:58:00 -48597.544692  -327.077275 -15025.970872  15029.530271\n",
       "2020-12-30 23:59:00 -48597.544692  -327.077275 -15025.970872  15029.530271\n",
       "2020-12-31 00:00:00 -48597.544692  -327.077275 -15025.970872  15029.530271\n",
       "\n",
       "[12096001 rows x 4 columns]"
      ]
     },
     "execution_count": 10,
     "metadata": {},
     "output_type": "execute_result"
    }
   ],
   "source": [
    "###Step 2; Download magnetic field model for given station.\n",
    "\n",
    "\n",
    "CHAOS7 = utils.loadChaosModel8(start_date,end_date,latitude,longitude_deg)\n",
    "CHAOS7\n",
    "\n",
    "###NOTE: This function assumes constant radius, which is not the case; radius varies according to latitude and height\n",
    "###from sea level. Change radius= parameter (last parameter in function) to get more accurate.\n",
    "\n",
    "###Further NOTE: this function does not include the last 24 hours of the period in question. Consider\n",
    "###changing this if possible."
   ]
  },
  {
   "cell_type": "code",
   "execution_count": 11,
   "id": "455de0d0",
   "metadata": {},
   "outputs": [
    {
     "name": "stdout",
     "output_type": "stream",
     "text": [
      "Downloading Observatory data for LER 1998 to 2020\n",
      "\n",
      "Accessing INTERMAGNET and/or WDC data\n",
      "Check usage terms at ftp://ftp.nerc-murchison.ac.uk/geomag/Swarm/AUX_OBS/minute/README\n",
      "\n"
     ]
    },
    {
     "data": {
      "application/vnd.jupyter.widget-view+json": {
       "model_id": "fbecec63b43443d2b536cb3df12f3619",
       "version_major": 2,
       "version_minor": 0
      },
      "text/plain": [
       "          |  [ Elapsed: 00:00, Remaining: ?]  "
      ]
     },
     "metadata": {},
     "output_type": "display_data"
    },
    {
     "data": {
      "application/vnd.jupyter.widget-view+json": {
       "model_id": "7223a1020c9a4d3c9f59b0c199a8186f",
       "version_major": 2,
       "version_minor": 0
      },
      "text/plain": [
       "Processing:    0%|          |  [ Elapsed: 00:00, Remaining: ? ] [1/3] "
      ]
     },
     "metadata": {},
     "output_type": "display_data"
    },
    {
     "data": {
      "application/vnd.jupyter.widget-view+json": {
       "model_id": "c9048a27f7d14b3dbe3d7bc9c2c9c281",
       "version_major": 2,
       "version_minor": 0
      },
      "text/plain": [
       "Downloading:   0%|          |  [ Elapsed: 00:00, Remaining: ? ] (242.635MB)"
      ]
     },
     "metadata": {},
     "output_type": "display_data"
    },
    {
     "data": {
      "application/vnd.jupyter.widget-view+json": {
       "model_id": "547008248c0948cbb8bff3306e425800",
       "version_major": 2,
       "version_minor": 0
      },
      "text/plain": [
       "Processing:    0%|          |  [ Elapsed: 00:00, Remaining: ? ] [2/3] "
      ]
     },
     "metadata": {},
     "output_type": "display_data"
    },
    {
     "data": {
      "application/vnd.jupyter.widget-view+json": {
       "model_id": "a0ae8a46feb14b6e915e2c4bc16e8250",
       "version_major": 2,
       "version_minor": 0
      },
      "text/plain": [
       "Downloading:   0%|          |  [ Elapsed: 00:00, Remaining: ? ] (242.635MB)"
      ]
     },
     "metadata": {},
     "output_type": "display_data"
    },
    {
     "data": {
      "application/vnd.jupyter.widget-view+json": {
       "model_id": "f75dff33183949c28a971b8667b3d06d",
       "version_major": 2,
       "version_minor": 0
      },
      "text/plain": [
       "Processing:    0%|          |  [ Elapsed: 00:00, Remaining: ? ] [3/3] "
      ]
     },
     "metadata": {},
     "output_type": "display_data"
    },
    {
     "data": {
      "application/vnd.jupyter.widget-view+json": {
       "model_id": "a897befe164e4e7b9cffc30f66fb541d",
       "version_major": 2,
       "version_minor": 0
      },
      "text/plain": [
       "Downloading:   0%|          |  [ Elapsed: 00:00, Remaining: ? ] (164.508MB)"
      ]
     },
     "metadata": {},
     "output_type": "display_data"
    },
    {
     "name": "stdout",
     "output_type": "stream",
     "text": [
      "Manipulating obsvervatory data\n"
     ]
    }
   ],
   "source": [
    "###Step 3; loop over years and download observatory data\n",
    "    \n",
    "    \n",
    "##Define start and end of download period for this year\n",
    "start= start_date_str\n",
    "end= end_date_str\n",
    "\n",
    "print('Downloading Observatory data for',observatory,str(start)[:4],'to',str(end)[:4])\n",
    "\n",
    "obs = utils.fetch_ground_obs(observatory, start, end)#Download obs data\n",
    "obs = utils.manipulate_obs_data(obs,CHAOS7)#Manipulate obs data to remove background mag field"
   ]
  },
  {
   "cell_type": "code",
   "execution_count": 7,
   "id": "e6c321fa",
   "metadata": {},
   "outputs": [
    {
     "name": "stdout",
     "output_type": "stream",
     "text": [
      "<xarray.Dataset> Size: 682MB\n",
      "Dimensions:    (Timestamp: 14199840)\n",
      "Coordinates:\n",
      "  * Timestamp  (Timestamp) datetime64[ns] 114MB 1998-01-01 ... 2024-12-31T23:...\n",
      "Data variables:\n",
      "    B_N        (Timestamp) float64 114MB 1.19 0.8893 0.6893 ... -84.31 -82.04\n",
      "    B_E        (Timestamp) float64 114MB -36.22 -36.25 -36.27 ... 234.3 236.3\n",
      "    B_C        (Timestamp) float64 114MB 13.26 13.56 13.56 ... -111.9 -108.9\n",
      "    B_H        (Timestamp) float64 114MB -8.079 -8.382 -8.583 ... -76.08 -73.79\n",
      "    dBdt       (Timestamp) float64 114MB nan -0.3024 -0.201 ... -1.5 2.291\n",
      "Attributes:\n",
      "    Sources:         ['SW_OPER_AUX_OBSM2__19980101T000000_19980101T235959_010...\n",
      "    MagneticModels:  []\n",
      "    AppliedFilters:  []\n",
      "    Latitude_GEO:    59.93341164979802\n",
      "    Longitude_GEO:   358.8\n",
      "    Radius_GEO:      6362184.563545696\n"
     ]
    },
    {
     "data": {
      "image/png": "[encoded data removed]",
      "text/plain": [
       "<Figure size 640x480 with 1 Axes>"
      ]
     },
     "metadata": {},
     "output_type": "display_data"
    },
    {
     "data": {
      "image/png": "[encoded data removed]",
      "text/plain": [
       "<Figure size 640x480 with 1 Axes>"
      ]
     },
     "metadata": {},
     "output_type": "display_data"
    }
   ],
   "source": [
    "#print(events_tot['B_N'])\n",
    "\n",
    "print(obs)\n",
    "\n",
    "plt.plot(obs['Timestamp'])\n",
    "plt.show()\n",
    "plt.plot(obs['B_N'])\n",
    "plt.show()"
   ]
  },
  {
   "cell_type": "code",
   "execution_count": 7,
   "id": "f48dfee5",
   "metadata": {},
   "outputs": [
    {
     "name": "stdout",
     "output_type": "stream",
     "text": [
      "Current working directory: /mnt/c/users/s1725621/Documents/PhDCode/Git/CrossformerTimeSeries/Data\n"
     ]
    }
   ],
   "source": [
    "###Step 4: get current directory and set PATH variable to where data will be saved.\n",
    "\n",
    "import os\n",
    "\n",
    "# Get the current working directory\n",
    "current_path = os.getcwd()\n",
    "\n",
    "# Print the current working directory\n",
    "print(\"Current working directory:\", current_path)\n",
    "\n",
    "#define path to data folder where data will be placed. Print current path if you don't know what it is!\n",
    "PATH = '/mnt/c/users/s1725621/Documents/PhDCode/Git/CrossformerTimeSeries/Data/'"
   ]
  },
  {
   "cell_type": "code",
   "execution_count": 8,
   "id": "79d3430b",
   "metadata": {},
   "outputs": [],
   "source": [
    "###Step 5: save observatory data.\n",
    "\n",
    "###Save to netcdf file\n",
    "##obs.to_netcdf(path = PATH+observatory+str(start)[:4]+str(end)[:4]+'.nc')\n",
    "\n",
    "###Save to csv file\n",
    "# Convert xarray Dataset to pandas DataFrame\n",
    "obf = obs.to_dataframe()\n",
    "\n",
    "# Save the DataFrame to a CSV file\n",
    "obf.to_csv(PATH+observatory+str(start)[:4]+str(end)[:4]+'.csv',index=True)"
   ]
  },
  {
   "cell_type": "code",
   "execution_count": null,
   "id": "6bdc9cfb",
   "metadata": {},
   "outputs": [],
   "source": []
  }
 ],
 "metadata": {
  "kernelspec": {
   "display_name": "Python 3 (ipykernel)",
   "language": "python",
   "name": "python3"
  },
  "language_info": {
   "codemirror_mode": {
    "name": "ipython",
    "version": 3
   },
   "file_extension": ".py",
   "mimetype": "text/x-python",
   "name": "python",
   "nbconvert_exporter": "python",
   "pygments_lexer": "ipython3",
   "version": "3.10.12"
  }
 },
 "nbformat": 4,
 "nbformat_minor": 5
}
