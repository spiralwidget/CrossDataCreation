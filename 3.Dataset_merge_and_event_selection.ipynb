{
 "cells": [
  {
   "cell_type": "markdown",
   "id": "51e379fd",
   "metadata": {},
   "source": [
    "# This workbook takes data in .csv format for OMNI and an observatory and turns the data into a machine learning ready dataset combining the two .csv files."
   ]
  },
  {
   "cell_type": "markdown",
   "id": "1d163ce2",
   "metadata": {},
   "source": [
    "The first thing to note is that extraction of events is optional, as is demonstrated clearly above that section before the data is placed into a new csv, netcdf or hdf format."
   ]
  },
  {
   "cell_type": "code",
   "execution_count": 1,
   "id": "d24d65c3",
   "metadata": {},
   "outputs": [],
   "source": [
    "import pandas as pd\n",
    "import xarray as xr\n",
    "import numpy as np\n",
    "import matplotlib.pyplot as plt\n",
    "from datetime import datetime, timedelta\n",
    "import tqdm\n",
    "\n",
    "import utils"
   ]
  },
  {
   "cell_type": "code",
   "execution_count": 2,
   "id": "4d092f8c",
   "metadata": {},
   "outputs": [
    {
     "name": "stdout",
     "output_type": "stream",
     "text": [
      "Current working directory: /mnt/c/users/s1725621/Documents/PhDCode/Git/CrossformerTimeSeries/Data\n"
     ]
    }
   ],
   "source": [
    "###Step 1: Get current directory and set PATH variable to where data has been saved.\n",
    "\n",
    "import os\n",
    "\n",
    "# Get the current working directory\n",
    "current_path = os.getcwd()\n",
    "\n",
    "# Print the current working directory\n",
    "print(\"Current working directory:\", current_path)\n",
    "\n",
    "#define path to data folder where data will be placed. Print current path if you don't know what it is!\n",
    "PATH = '/mnt/c/users/s1725621/Documents/PhDCode/Git/CrossformerTimeSeries/Data/'"
   ]
  },
  {
   "cell_type": "code",
   "execution_count": 4,
   "id": "b157e484",
   "metadata": {
    "scrolled": true
   },
   "outputs": [
    {
     "name": "stdout",
     "output_type": "stream",
     "text": [
      "<xarray.Dataset> Size: 555MB\n",
      "Dimensions:    (Timestamp: 11568960)\n",
      "Coordinates:\n",
      "  * Timestamp  (Timestamp) object 93MB '1998-01-01 00:00:00' ... '2019-12-31 ...\n",
      "Data variables:\n",
      "    B_N        (Timestamp) float64 93MB 1.196 0.8947 0.6947 ... 3.04 3.04 3.241\n",
      "    B_E        (Timestamp) float64 93MB -31.69 -31.72 -31.74 ... 23.17 23.37\n",
      "    B_C        (Timestamp) float64 93MB 13.02 13.32 13.32 ... -28.36 -28.46\n",
      "    B_H        (Timestamp) float64 93MB -6.822 -7.124 -7.325 ... 9.81 10.01\n",
      "    dBdt       (Timestamp) float64 93MB nan -0.3024 -0.201 ... 0.001354 0.203\n",
      "<xarray.Dataset> Size: 871MB\n",
      "Dimensions:         (Timestamp: 12097440)\n",
      "Coordinates:\n",
      "  * Timestamp       (Timestamp) object 97MB '1998-01-01 00:00:00' ... '2020-1...\n",
      "Data variables:\n",
      "    BY_GSM          (Timestamp) float64 97MB 5.41 5.51 4.04 ... -1.41 0.09 1.15\n",
      "    BZ_GSM          (Timestamp) float64 97MB 2.31 1.92 1.59 ... 1.05 0.98 0.38\n",
      "    flow_speed      (Timestamp) float64 97MB 357.6 357.6 351.6 ... 358.8 358.5\n",
      "    proton_density  (Timestamp) float64 97MB 6.85 6.85 4.74 ... 4.34 4.35 4.35\n",
      "    T               (Timestamp) float64 97MB 1.007e+05 1.007e+05 ... 3.831e+04\n",
      "    Pressure        (Timestamp) float64 97MB 1.75 1.75 1.17 ... 1.17 1.12 1.12\n",
      "    KP              (Timestamp) float64 97MB 7.0 7.0 7.0 7.0 ... 3.0 3.0 3.0 3.0\n",
      "    DST             (Timestamp) float64 97MB -9.0 -9.0 -9.0 -9.0 ... 2.0 2.0 2.0\n"
     ]
    }
   ],
   "source": [
    "###Step 2: Import dataset from csv\n",
    "observatory='LER'\n",
    "obs=pd.read_csv(PATH + observatory +'19982020.csv',index_col='Timestamp')###Observatory Dataset downloaded\n",
    "obs=obs.to_xarray() #Into xarray\n",
    "\n",
    "OMNIset=pd.read_csv(PATH + 'OMNI19982020.csv',index_col='Timestamp')###OMNI Dataset downloaded\n",
    "OMNIset.index=pd.to_datetime(OMNIset.index)\n",
    "OMNIset.index= pd.to_datetime(OMNIset.index, unit='ns')\n",
    "OMNIset.index = OMNIset.index.strftime('%Y-%m-%d %H:%M:%S')\n",
    "OMNIset=OMNIset.to_xarray() #Into xarray\n",
    "\n",
    "print(obs)\n",
    "print(OMNIset)"
   ]
  },
  {
   "cell_type": "markdown",
   "id": "a47a9d24",
   "metadata": {},
   "source": [
    "# Save all data to machine learning ready format."
   ]
  },
  {
   "cell_type": "code",
   "execution_count": 22,
   "id": "495e54ba",
   "metadata": {},
   "outputs": [],
   "source": [
    "###Merge dataset\n",
    "\n",
    "OMNIset=OMNIset.sel(Timestamp=obs.Timestamp)\n",
    "\n",
    "events_tot=xr.merge([obs,OMNIset])"
   ]
  },
  {
   "cell_type": "code",
   "execution_count": 23,
   "id": "9a0c36c3",
   "metadata": {},
   "outputs": [
    {
     "name": "stdout",
     "output_type": "stream",
     "text": [
      "<xarray.Dataset> Size: 1GB\n",
      "Dimensions:         (Timestamp: 11568960)\n",
      "Coordinates:\n",
      "  * Timestamp       (Timestamp) object 93MB '1998-01-01 00:00:00' ... '2019-1...\n",
      "Data variables: (12/13)\n",
      "    B_N             (Timestamp) float64 93MB 1.196 0.8947 0.6947 ... 3.04 3.241\n",
      "    B_E             (Timestamp) float64 93MB -31.69 -31.72 ... 23.17 23.37\n",
      "    B_C             (Timestamp) float64 93MB 13.02 13.32 13.32 ... -28.36 -28.46\n",
      "    B_H             (Timestamp) float64 93MB -6.822 -7.124 -7.325 ... 9.81 10.01\n",
      "    dBdt            (Timestamp) float64 93MB nan -0.3024 ... 0.001354 0.203\n",
      "    BY_GSM          (Timestamp) float64 93MB 5.41 5.51 4.04 ... 2.08 3.37 3.31\n",
      "    ...              ...\n",
      "    flow_speed      (Timestamp) float64 93MB 357.6 357.6 351.6 ... 294.7 nan\n",
      "    proton_density  (Timestamp) float64 93MB 6.85 6.85 4.74 ... 5.7 5.19 nan\n",
      "    T               (Timestamp) float64 93MB 1.007e+05 1.007e+05 ... 2.4e+04 nan\n",
      "    Pressure        (Timestamp) float64 93MB 1.75 1.75 1.17 1.6 ... 1.01 0.9 nan\n",
      "    KP              (Timestamp) float64 93MB 7.0 7.0 7.0 7.0 ... 7.0 7.0 7.0 3.0\n",
      "    DST             (Timestamp) float64 93MB -9.0 -9.0 -9.0 ... -5.0 -5.0 -6.0\n"
     ]
    }
   ],
   "source": [
    "print(events_tot)"
   ]
  },
  {
   "cell_type": "code",
   "execution_count": 24,
   "id": "b5239630",
   "metadata": {},
   "outputs": [
    {
     "ename": "KeyboardInterrupt",
     "evalue": "",
     "output_type": "error",
     "traceback": [
      "\u001b[0;31m---------------------------------------------------------------------------\u001b[0m",
      "\u001b[0;31mKeyboardInterrupt\u001b[0m                         Traceback (most recent call last)",
      "Cell \u001b[0;32mIn[24], line 11\u001b[0m\n\u001b[1;32m      8\u001b[0m OMNIsetf \u001b[38;5;241m=\u001b[39m events_tot\u001b[38;5;241m.\u001b[39mto_dataframe()\n\u001b[1;32m     10\u001b[0m \u001b[38;5;66;03m# Save the DataFrame to a CSV file\u001b[39;00m\n\u001b[0;32m---> 11\u001b[0m \u001b[43mOMNIsetf\u001b[49m\u001b[38;5;241;43m.\u001b[39;49m\u001b[43mto_csv\u001b[49m\u001b[43m(\u001b[49m\u001b[43mPATH\u001b[49m\u001b[38;5;241;43m+\u001b[39;49m\u001b[38;5;124;43m'\u001b[39;49m\u001b[38;5;124;43mOMNImerge\u001b[39;49m\u001b[38;5;124;43m'\u001b[39;49m\u001b[38;5;241;43m+\u001b[39;49m\u001b[43mobservatory\u001b[49m\u001b[38;5;241;43m+\u001b[39;49m\u001b[38;5;124;43m'\u001b[39;49m\u001b[38;5;124;43m19982020.csv\u001b[39;49m\u001b[38;5;124;43m'\u001b[39;49m\u001b[43m,\u001b[49m\u001b[43mindex\u001b[49m\u001b[38;5;241;43m=\u001b[39;49m\u001b[38;5;28;43;01mTrue\u001b[39;49;00m\u001b[43m)\u001b[49m\n",
      "File \u001b[0;32m~/.local/lib/python3.10/site-packages/pandas/util/_decorators.py:333\u001b[0m, in \u001b[0;36mdeprecate_nonkeyword_arguments.<locals>.decorate.<locals>.wrapper\u001b[0;34m(*args, **kwargs)\u001b[0m\n\u001b[1;32m    327\u001b[0m \u001b[38;5;28;01mif\u001b[39;00m \u001b[38;5;28mlen\u001b[39m(args) \u001b[38;5;241m>\u001b[39m num_allow_args:\n\u001b[1;32m    328\u001b[0m     warnings\u001b[38;5;241m.\u001b[39mwarn(\n\u001b[1;32m    329\u001b[0m         msg\u001b[38;5;241m.\u001b[39mformat(arguments\u001b[38;5;241m=\u001b[39m_format_argument_list(allow_args)),\n\u001b[1;32m    330\u001b[0m         \u001b[38;5;167;01mFutureWarning\u001b[39;00m,\n\u001b[1;32m    331\u001b[0m         stacklevel\u001b[38;5;241m=\u001b[39mfind_stack_level(),\n\u001b[1;32m    332\u001b[0m     )\n\u001b[0;32m--> 333\u001b[0m \u001b[38;5;28;01mreturn\u001b[39;00m \u001b[43mfunc\u001b[49m\u001b[43m(\u001b[49m\u001b[38;5;241;43m*\u001b[39;49m\u001b[43margs\u001b[49m\u001b[43m,\u001b[49m\u001b[43m \u001b[49m\u001b[38;5;241;43m*\u001b[39;49m\u001b[38;5;241;43m*\u001b[39;49m\u001b[43mkwargs\u001b[49m\u001b[43m)\u001b[49m\n",
      "File \u001b[0;32m~/.local/lib/python3.10/site-packages/pandas/core/generic.py:3967\u001b[0m, in \u001b[0;36mNDFrame.to_csv\u001b[0;34m(self, path_or_buf, sep, na_rep, float_format, columns, header, index, index_label, mode, encoding, compression, quoting, quotechar, lineterminator, chunksize, date_format, doublequote, escapechar, decimal, errors, storage_options)\u001b[0m\n\u001b[1;32m   3956\u001b[0m df \u001b[38;5;241m=\u001b[39m \u001b[38;5;28mself\u001b[39m \u001b[38;5;28;01mif\u001b[39;00m \u001b[38;5;28misinstance\u001b[39m(\u001b[38;5;28mself\u001b[39m, ABCDataFrame) \u001b[38;5;28;01melse\u001b[39;00m \u001b[38;5;28mself\u001b[39m\u001b[38;5;241m.\u001b[39mto_frame()\n\u001b[1;32m   3958\u001b[0m formatter \u001b[38;5;241m=\u001b[39m DataFrameFormatter(\n\u001b[1;32m   3959\u001b[0m     frame\u001b[38;5;241m=\u001b[39mdf,\n\u001b[1;32m   3960\u001b[0m     header\u001b[38;5;241m=\u001b[39mheader,\n\u001b[0;32m   (...)\u001b[0m\n\u001b[1;32m   3964\u001b[0m     decimal\u001b[38;5;241m=\u001b[39mdecimal,\n\u001b[1;32m   3965\u001b[0m )\n\u001b[0;32m-> 3967\u001b[0m \u001b[38;5;28;01mreturn\u001b[39;00m \u001b[43mDataFrameRenderer\u001b[49m\u001b[43m(\u001b[49m\u001b[43mformatter\u001b[49m\u001b[43m)\u001b[49m\u001b[38;5;241;43m.\u001b[39;49m\u001b[43mto_csv\u001b[49m\u001b[43m(\u001b[49m\n\u001b[1;32m   3968\u001b[0m \u001b[43m    \u001b[49m\u001b[43mpath_or_buf\u001b[49m\u001b[43m,\u001b[49m\n\u001b[1;32m   3969\u001b[0m \u001b[43m    \u001b[49m\u001b[43mlineterminator\u001b[49m\u001b[38;5;241;43m=\u001b[39;49m\u001b[43mlineterminator\u001b[49m\u001b[43m,\u001b[49m\n\u001b[1;32m   3970\u001b[0m \u001b[43m    \u001b[49m\u001b[43msep\u001b[49m\u001b[38;5;241;43m=\u001b[39;49m\u001b[43msep\u001b[49m\u001b[43m,\u001b[49m\n\u001b[1;32m   3971\u001b[0m \u001b[43m    \u001b[49m\u001b[43mencoding\u001b[49m\u001b[38;5;241;43m=\u001b[39;49m\u001b[43mencoding\u001b[49m\u001b[43m,\u001b[49m\n\u001b[1;32m   3972\u001b[0m \u001b[43m    \u001b[49m\u001b[43merrors\u001b[49m\u001b[38;5;241;43m=\u001b[39;49m\u001b[43merrors\u001b[49m\u001b[43m,\u001b[49m\n\u001b[1;32m   3973\u001b[0m \u001b[43m    \u001b[49m\u001b[43mcompression\u001b[49m\u001b[38;5;241;43m=\u001b[39;49m\u001b[43mcompression\u001b[49m\u001b[43m,\u001b[49m\n\u001b[1;32m   3974\u001b[0m \u001b[43m    \u001b[49m\u001b[43mquoting\u001b[49m\u001b[38;5;241;43m=\u001b[39;49m\u001b[43mquoting\u001b[49m\u001b[43m,\u001b[49m\n\u001b[1;32m   3975\u001b[0m \u001b[43m    \u001b[49m\u001b[43mcolumns\u001b[49m\u001b[38;5;241;43m=\u001b[39;49m\u001b[43mcolumns\u001b[49m\u001b[43m,\u001b[49m\n\u001b[1;32m   3976\u001b[0m \u001b[43m    \u001b[49m\u001b[43mindex_label\u001b[49m\u001b[38;5;241;43m=\u001b[39;49m\u001b[43mindex_label\u001b[49m\u001b[43m,\u001b[49m\n\u001b[1;32m   3977\u001b[0m \u001b[43m    \u001b[49m\u001b[43mmode\u001b[49m\u001b[38;5;241;43m=\u001b[39;49m\u001b[43mmode\u001b[49m\u001b[43m,\u001b[49m\n\u001b[1;32m   3978\u001b[0m \u001b[43m    \u001b[49m\u001b[43mchunksize\u001b[49m\u001b[38;5;241;43m=\u001b[39;49m\u001b[43mchunksize\u001b[49m\u001b[43m,\u001b[49m\n\u001b[1;32m   3979\u001b[0m \u001b[43m    \u001b[49m\u001b[43mquotechar\u001b[49m\u001b[38;5;241;43m=\u001b[39;49m\u001b[43mquotechar\u001b[49m\u001b[43m,\u001b[49m\n\u001b[1;32m   3980\u001b[0m \u001b[43m    \u001b[49m\u001b[43mdate_format\u001b[49m\u001b[38;5;241;43m=\u001b[39;49m\u001b[43mdate_format\u001b[49m\u001b[43m,\u001b[49m\n\u001b[1;32m   3981\u001b[0m \u001b[43m    \u001b[49m\u001b[43mdoublequote\u001b[49m\u001b[38;5;241;43m=\u001b[39;49m\u001b[43mdoublequote\u001b[49m\u001b[43m,\u001b[49m\n\u001b[1;32m   3982\u001b[0m \u001b[43m    \u001b[49m\u001b[43mescapechar\u001b[49m\u001b[38;5;241;43m=\u001b[39;49m\u001b[43mescapechar\u001b[49m\u001b[43m,\u001b[49m\n\u001b[1;32m   3983\u001b[0m \u001b[43m    \u001b[49m\u001b[43mstorage_options\u001b[49m\u001b[38;5;241;43m=\u001b[39;49m\u001b[43mstorage_options\u001b[49m\u001b[43m,\u001b[49m\n\u001b[1;32m   3984\u001b[0m \u001b[43m\u001b[49m\u001b[43m)\u001b[49m\n",
      "File \u001b[0;32m~/.local/lib/python3.10/site-packages/pandas/io/formats/format.py:1014\u001b[0m, in \u001b[0;36mDataFrameRenderer.to_csv\u001b[0;34m(self, path_or_buf, encoding, sep, columns, index_label, mode, compression, quoting, quotechar, lineterminator, chunksize, date_format, doublequote, escapechar, errors, storage_options)\u001b[0m\n\u001b[1;32m    993\u001b[0m     created_buffer \u001b[38;5;241m=\u001b[39m \u001b[38;5;28;01mFalse\u001b[39;00m\n\u001b[1;32m    995\u001b[0m csv_formatter \u001b[38;5;241m=\u001b[39m CSVFormatter(\n\u001b[1;32m    996\u001b[0m     path_or_buf\u001b[38;5;241m=\u001b[39mpath_or_buf,\n\u001b[1;32m    997\u001b[0m     lineterminator\u001b[38;5;241m=\u001b[39mlineterminator,\n\u001b[0;32m   (...)\u001b[0m\n\u001b[1;32m   1012\u001b[0m     formatter\u001b[38;5;241m=\u001b[39m\u001b[38;5;28mself\u001b[39m\u001b[38;5;241m.\u001b[39mfmt,\n\u001b[1;32m   1013\u001b[0m )\n\u001b[0;32m-> 1014\u001b[0m \u001b[43mcsv_formatter\u001b[49m\u001b[38;5;241;43m.\u001b[39;49m\u001b[43msave\u001b[49m\u001b[43m(\u001b[49m\u001b[43m)\u001b[49m\n\u001b[1;32m   1016\u001b[0m \u001b[38;5;28;01mif\u001b[39;00m created_buffer:\n\u001b[1;32m   1017\u001b[0m     \u001b[38;5;28;01massert\u001b[39;00m \u001b[38;5;28misinstance\u001b[39m(path_or_buf, StringIO)\n",
      "File \u001b[0;32m~/.local/lib/python3.10/site-packages/pandas/io/formats/csvs.py:270\u001b[0m, in \u001b[0;36mCSVFormatter.save\u001b[0;34m(self)\u001b[0m\n\u001b[1;32m    251\u001b[0m \u001b[38;5;28;01mwith\u001b[39;00m get_handle(\n\u001b[1;32m    252\u001b[0m     \u001b[38;5;28mself\u001b[39m\u001b[38;5;241m.\u001b[39mfilepath_or_buffer,\n\u001b[1;32m    253\u001b[0m     \u001b[38;5;28mself\u001b[39m\u001b[38;5;241m.\u001b[39mmode,\n\u001b[0;32m   (...)\u001b[0m\n\u001b[1;32m    258\u001b[0m ) \u001b[38;5;28;01mas\u001b[39;00m handles:\n\u001b[1;32m    259\u001b[0m     \u001b[38;5;66;03m# Note: self.encoding is irrelevant here\u001b[39;00m\n\u001b[1;32m    260\u001b[0m     \u001b[38;5;28mself\u001b[39m\u001b[38;5;241m.\u001b[39mwriter \u001b[38;5;241m=\u001b[39m csvlib\u001b[38;5;241m.\u001b[39mwriter(\n\u001b[1;32m    261\u001b[0m         handles\u001b[38;5;241m.\u001b[39mhandle,\n\u001b[1;32m    262\u001b[0m         lineterminator\u001b[38;5;241m=\u001b[39m\u001b[38;5;28mself\u001b[39m\u001b[38;5;241m.\u001b[39mlineterminator,\n\u001b[0;32m   (...)\u001b[0m\n\u001b[1;32m    267\u001b[0m         quotechar\u001b[38;5;241m=\u001b[39m\u001b[38;5;28mself\u001b[39m\u001b[38;5;241m.\u001b[39mquotechar,\n\u001b[1;32m    268\u001b[0m     )\n\u001b[0;32m--> 270\u001b[0m     \u001b[38;5;28;43mself\u001b[39;49m\u001b[38;5;241;43m.\u001b[39;49m\u001b[43m_save\u001b[49m\u001b[43m(\u001b[49m\u001b[43m)\u001b[49m\n",
      "File \u001b[0;32m~/.local/lib/python3.10/site-packages/pandas/io/formats/csvs.py:275\u001b[0m, in \u001b[0;36mCSVFormatter._save\u001b[0;34m(self)\u001b[0m\n\u001b[1;32m    273\u001b[0m \u001b[38;5;28;01mif\u001b[39;00m \u001b[38;5;28mself\u001b[39m\u001b[38;5;241m.\u001b[39m_need_to_save_header:\n\u001b[1;32m    274\u001b[0m     \u001b[38;5;28mself\u001b[39m\u001b[38;5;241m.\u001b[39m_save_header()\n\u001b[0;32m--> 275\u001b[0m \u001b[38;5;28;43mself\u001b[39;49m\u001b[38;5;241;43m.\u001b[39;49m\u001b[43m_save_body\u001b[49m\u001b[43m(\u001b[49m\u001b[43m)\u001b[49m\n",
      "File \u001b[0;32m~/.local/lib/python3.10/site-packages/pandas/io/formats/csvs.py:313\u001b[0m, in \u001b[0;36mCSVFormatter._save_body\u001b[0;34m(self)\u001b[0m\n\u001b[1;32m    311\u001b[0m \u001b[38;5;28;01mif\u001b[39;00m start_i \u001b[38;5;241m>\u001b[39m\u001b[38;5;241m=\u001b[39m end_i:\n\u001b[1;32m    312\u001b[0m     \u001b[38;5;28;01mbreak\u001b[39;00m\n\u001b[0;32m--> 313\u001b[0m \u001b[38;5;28;43mself\u001b[39;49m\u001b[38;5;241;43m.\u001b[39;49m\u001b[43m_save_chunk\u001b[49m\u001b[43m(\u001b[49m\u001b[43mstart_i\u001b[49m\u001b[43m,\u001b[49m\u001b[43m \u001b[49m\u001b[43mend_i\u001b[49m\u001b[43m)\u001b[49m\n",
      "File \u001b[0;32m~/.local/lib/python3.10/site-packages/pandas/io/formats/csvs.py:324\u001b[0m, in \u001b[0;36mCSVFormatter._save_chunk\u001b[0;34m(self, start_i, end_i)\u001b[0m\n\u001b[1;32m    321\u001b[0m data \u001b[38;5;241m=\u001b[39m \u001b[38;5;28mlist\u001b[39m(res\u001b[38;5;241m.\u001b[39m_iter_column_arrays())\n\u001b[1;32m    323\u001b[0m ix \u001b[38;5;241m=\u001b[39m \u001b[38;5;28mself\u001b[39m\u001b[38;5;241m.\u001b[39mdata_index[slicer]\u001b[38;5;241m.\u001b[39m_get_values_for_csv(\u001b[38;5;241m*\u001b[39m\u001b[38;5;241m*\u001b[39m\u001b[38;5;28mself\u001b[39m\u001b[38;5;241m.\u001b[39m_number_format)\n\u001b[0;32m--> 324\u001b[0m \u001b[43mlibwriters\u001b[49m\u001b[38;5;241;43m.\u001b[39;49m\u001b[43mwrite_csv_rows\u001b[49m\u001b[43m(\u001b[49m\n\u001b[1;32m    325\u001b[0m \u001b[43m    \u001b[49m\u001b[43mdata\u001b[49m\u001b[43m,\u001b[49m\n\u001b[1;32m    326\u001b[0m \u001b[43m    \u001b[49m\u001b[43mix\u001b[49m\u001b[43m,\u001b[49m\n\u001b[1;32m    327\u001b[0m \u001b[43m    \u001b[49m\u001b[38;5;28;43mself\u001b[39;49m\u001b[38;5;241;43m.\u001b[39;49m\u001b[43mnlevels\u001b[49m\u001b[43m,\u001b[49m\n\u001b[1;32m    328\u001b[0m \u001b[43m    \u001b[49m\u001b[38;5;28;43mself\u001b[39;49m\u001b[38;5;241;43m.\u001b[39;49m\u001b[43mcols\u001b[49m\u001b[43m,\u001b[49m\n\u001b[1;32m    329\u001b[0m \u001b[43m    \u001b[49m\u001b[38;5;28;43mself\u001b[39;49m\u001b[38;5;241;43m.\u001b[39;49m\u001b[43mwriter\u001b[49m\u001b[43m,\u001b[49m\n\u001b[1;32m    330\u001b[0m \u001b[43m\u001b[49m\u001b[43m)\u001b[49m\n",
      "File \u001b[0;32mwriters.pyx:56\u001b[0m, in \u001b[0;36mpandas._libs.writers.write_csv_rows\u001b[0;34m()\u001b[0m\n",
      "\u001b[0;31mKeyboardInterrupt\u001b[0m: "
     ]
    }
   ],
   "source": [
    "###Step 5: save OMNI data.\n",
    "\n",
    "###Save to netcdf file\n",
    "events_tot.to_netcdf(path = PATH+'OMNImerge'+observatory+'19982020.nc')\n",
    "\n",
    "###Save to csv file\n",
    "# Convert xarray Dataset to pandas DataFrame\n",
    "OMNIsetf = events_tot.to_dataframe()\n",
    "\n",
    "# Save the DataFrame to a CSV file\n",
    "OMNIsetf.to_csv(PATH+'OMNImerge'+observatory+'19982020.csv',index=True)"
   ]
  },
  {
   "cell_type": "markdown",
   "id": "83ee6a15",
   "metadata": {},
   "source": [
    "# Save only events above a certain threshold to machine learning ready format."
   ]
  },
  {
   "cell_type": "code",
   "execution_count": 5,
   "id": "c3c411f6",
   "metadata": {
    "scrolled": true
   },
   "outputs": [
    {
     "name": "stdout",
     "output_type": "stream",
     "text": [
      "Finding events with dBdt exceendance 75 nT/min\n"
     ]
    },
    {
     "ename": "NameError",
     "evalue": "name 'events_tot' is not defined",
     "output_type": "error",
     "traceback": [
      "\u001b[0;31m---------------------------------------------------------------------------\u001b[0m",
      "\u001b[0;31mNameError\u001b[0m                                 Traceback (most recent call last)",
      "Cell \u001b[0;32mIn[5], line 6\u001b[0m\n\u001b[1;32m      3\u001b[0m \u001b[38;5;28mprint\u001b[39m(\u001b[38;5;124mf\u001b[39m\u001b[38;5;124m\"\u001b[39m\u001b[38;5;124mFinding events with dBdt exceendance \u001b[39m\u001b[38;5;132;01m{\u001b[39;00mexceed\u001b[38;5;132;01m}\u001b[39;00m\u001b[38;5;124m nT/min\u001b[39m\u001b[38;5;124m\"\u001b[39m)\n\u001b[1;32m      5\u001b[0m \u001b[38;5;66;03m###Get datetime column in correct format.\u001b[39;00m\n\u001b[0;32m----> 6\u001b[0m storm_events_tot\u001b[38;5;241m=\u001b[39m\u001b[43mevents_tot\u001b[49m\u001b[38;5;241m.\u001b[39mto_pandas()\n\u001b[1;32m      7\u001b[0m storm_events_tot\u001b[38;5;241m.\u001b[39mindex\u001b[38;5;241m=\u001b[39mpd\u001b[38;5;241m.\u001b[39mto_datetime(storm_events_tot\u001b[38;5;241m.\u001b[39mindex)\n\u001b[1;32m      8\u001b[0m storm_events_tot\u001b[38;5;241m=\u001b[39mstorm_events_tot\u001b[38;5;241m.\u001b[39mto_xarray()\n",
      "\u001b[0;31mNameError\u001b[0m: name 'events_tot' is not defined"
     ]
    }
   ],
   "source": [
    "##Set dBdt threshold beyond which an \"event\" has been initiated. Will vary based on location.\n",
    "exceed=75\n",
    "print(f\"Finding events with dBdt exceendance {exceed} nT/min\")\n",
    "\n",
    "###Get datetime column in correct format.\n",
    "storm_events_tot=events_tot.to_pandas()\n",
    "storm_events_tot.index=pd.to_datetime(storm_events_tot.index)\n",
    "storm_events_tot=storm_events_tot.to_xarray()\n",
    "\n",
    "##Find events.\n",
    "storm_events_tot=utils.find_events(storm_events_tot, exceed, interval=np.timedelta64(6,'h'))\n",
    "\n",
    "print('Found',len(storm_events_tot.B_H)//(60*24),f'days in range')\n",
    "\n",
    "print(storm_events_tot)"
   ]
  },
  {
   "cell_type": "code",
   "execution_count": null,
   "id": "c39d46d5",
   "metadata": {},
   "outputs": [],
   "source": [
    "###Step 5: save OMNI data.\n",
    "\n",
    "###Save to netcdf file\n",
    "storm_events_tot.to_netcdf(path = PATH+'OMNIstorms'+observatory+'19982020and'+str(exceed)+'nTmin.nc')\n",
    "\n",
    "###Save to csv file\n",
    "# Convert xarray Dataset to pandas DataFrame\n",
    "OMNIsetf = storm_events_tot.to_dataframe()\n",
    "\n",
    "# Save the DataFrame to a CSV file\n",
    "OMNIsetf.to_csv(PATH+'OMNIstorms'+observatory+'19982020and'+str(exceed)+'nTmin.csv',index=True)"
   ]
  },
  {
   "cell_type": "markdown",
   "id": "fa1efbcc-bb9d-475e-8517-b0a93d20a4e2",
   "metadata": {},
   "source": [
    "# Code for adding k, positional encoding and other parameters."
   ]
  },
  {
   "cell_type": "code",
   "execution_count": 6,
   "id": "49d7c734",
   "metadata": {},
   "outputs": [],
   "source": [
    "#k.\n",
    "k=[]\n",
    "t=0\n",
    "for i in range(len(obs.Timestamp)):\n",
    "    k.append(t)\n",
    "    t+=1"
   ]
  },
  {
   "cell_type": "code",
   "execution_count": 7,
   "id": "34ac1a12-bfc5-4a36-b863-4125ac2c2c24",
   "metadata": {},
   "outputs": [
    {
     "name": "stdout",
     "output_type": "stream",
     "text": [
      "11568960\n"
     ]
    }
   ],
   "source": [
    "print(len(obs.Timestamp))"
   ]
  },
  {
   "cell_type": "code",
   "execution_count": 8,
   "id": "e7ebd7d7-0104-4320-843a-4312154fb80e",
   "metadata": {},
   "outputs": [
    {
     "name": "stdout",
     "output_type": "stream",
     "text": [
      "      0  1         2      3    4  5  6       date\n",
      "0  1749  1  1749.042   96.7 -1.0 -1  1 1749-01-01\n",
      "1  1749  2  1749.123  104.3 -1.0 -1  1 1749-02-01\n",
      "2  1749  3  1749.204  116.7 -1.0 -1  1 1749-03-01\n",
      "3  1749  4  1749.288   92.8 -1.0 -1  1 1749-04-01\n",
      "4  1749  5  1749.371  141.7 -1.0 -1  1 1749-05-01\n"
     ]
    }
   ],
   "source": [
    "#additional parameters: MLT, time of year, smoothed solar number from source.\n",
    "\n",
    "#Smoothed solar number- monthly. From SILSO.\n",
    "import pandas as pd\n",
    "sunspotnum=pd.read_csv('SN_m_tot_V2.0 (1).csv',header=None,sep=';')\n",
    "\n",
    "sunspotnum.head()\n",
    "\n",
    "sunspotnum['date'] = pd.to_datetime(dict(year=sunspotnum[0], month=sunspotnum[1], day=1))\n",
    "\n",
    "print(sunspotnum.head())"
   ]
  },
  {
   "cell_type": "code",
   "execution_count": 9,
   "id": "cbf281e3-4d0b-43a6-8a52-16bbbe2c086a",
   "metadata": {},
   "outputs": [
    {
     "data": {
      "text/plain": [
       "[<matplotlib.lines.Line2D at 0x734be6f1f040>]"
      ]
     },
     "execution_count": 9,
     "metadata": {},
     "output_type": "execute_result"
    },
    {
     "data": {
      "image/png": "[encoded data removed]",
      "text/plain": [
       "<Figure size 640x480 with 1 Axes>"
      ]
     },
     "metadata": {},
     "output_type": "display_data"
    }
   ],
   "source": [
    "timearray=np.array(obs.Timestamp)\n",
    "\n",
    "plt.plot(sunspotnum[0],sunspotnum[4])\n"
   ]
  },
  {
   "cell_type": "code",
   "execution_count": 10,
   "id": "6e3f9bb9-aa7f-4fd2-b6ed-fe530302bddd",
   "metadata": {},
   "outputs": [
    {
     "name": "stdout",
     "output_type": "stream",
     "text": [
      "               0  1         2      3    4  5  6\n",
      "date                                           \n",
      "1749-01-01  1749  1  1749.042   96.7 -1.0 -1  1\n",
      "1749-02-01  1749  2  1749.123  104.3 -1.0 -1  1\n",
      "1749-03-01  1749  3  1749.204  116.7 -1.0 -1  1\n",
      "1749-04-01  1749  4  1749.288   92.8 -1.0 -1  1\n",
      "1749-05-01  1749  5  1749.371  141.7 -1.0 -1  1\n"
     ]
    },
    {
     "name": "stderr",
     "output_type": "stream",
     "text": [
      "/tmp/ipykernel_21211/4235819718.py:9: FutureWarning: 'T' is deprecated and will be removed in a future version, please use 'min' instead.\n",
      "  sunspotnum = sunspotnum.resample('T').interpolate('linear')\n"
     ]
    },
    {
     "data": {
      "text/plain": [
       "[<matplotlib.lines.Line2D at 0x734be6d5eb00>]"
      ]
     },
     "execution_count": 10,
     "metadata": {},
     "output_type": "execute_result"
    },
    {
     "data": {
      "image/png": "[encoded data removed]",
      "text/plain": [
       "<Figure size 640x480 with 1 Axes>"
      ]
     },
     "metadata": {},
     "output_type": "display_data"
    }
   ],
   "source": [
    "import matplotlib.pyplot as plt\n",
    "\n",
    "sunspotnum.set_index('date', inplace=True)\n",
    "\n",
    "print(sunspotnum.head())\n",
    "\n",
    "sunspotnum = sunspotnum.loc['1998':'2020']\n",
    "\n",
    "sunspotnum = sunspotnum.resample('T').interpolate('linear')\n",
    "####NOTE: WE DO INTERPOLATION HERE. THIS IS PROBABLY THE CORRECT THING TO DO BUT IT NEEDS TO BE EXPLAINED WELL IN THE WRITE UP.\n",
    "\n",
    "plt.plot(sunspotnum[4])"
   ]
  },
  {
   "cell_type": "code",
   "execution_count": 11,
   "id": "75f146e9-2dc5-4624-a15c-b3b71a441391",
   "metadata": {},
   "outputs": [
    {
     "name": "stdout",
     "output_type": "stream",
     "text": [
      "Index([0, 1, 2, 3, 4, 5, 6], dtype='object')\n"
     ]
    }
   ],
   "source": [
    "sunspotnum.loc[timearray]\n",
    "\n",
    "sunspotnum=sunspotnum.loc[obs.Timestamp]\n",
    "\n",
    "print(sunspotnum.columns)\n"
   ]
  },
  {
   "cell_type": "code",
   "execution_count": null,
   "id": "3087b1ee-8155-40a9-82bc-432d7fbd8b16",
   "metadata": {},
   "outputs": [],
   "source": []
  },
  {
   "cell_type": "code",
   "execution_count": 12,
   "id": "e476b80f-74c1-41cb-994d-8f914a4eccac",
   "metadata": {},
   "outputs": [
    {
     "data": {
      "text/plain": [
       "[<matplotlib.lines.Line2D at 0x734be6da5750>]"
      ]
     },
     "execution_count": 12,
     "metadata": {},
     "output_type": "execute_result"
    },
    {
     "data": {
      "image/png": "[encoded data removed]",
      "text/plain": [
       "<Figure size 640x480 with 1 Axes>"
      ]
     },
     "metadata": {},
     "output_type": "display_data"
    }
   ],
   "source": [
    "plt.plot(sunspotnum[4])\n"
   ]
  },
  {
   "cell_type": "code",
   "execution_count": 13,
   "id": "f0566154-7894-42af-8ce4-ec90153d84d2",
   "metadata": {},
   "outputs": [
    {
     "name": "stdout",
     "output_type": "stream",
     "text": [
      "1998-01-01 00:00:00\n",
      "1998\n"
     ]
    }
   ],
   "source": [
    "##Time of year\n",
    "timearray = pd.to_datetime(obs['Timestamp'])\n",
    "\n",
    "print(timearray[0])\n",
    "\n",
    "# Extract years\n",
    "years = timearray.year\n",
    "\n",
    "# Convert years into datetime (as Jan 1st)\n",
    "year_start = pd.to_datetime(years.astype(str) + '-01-01')\n",
    "\n",
    "print(years[0])\n",
    "\n",
    "delta = (timearray - year_start)\n",
    "\n",
    "delta= delta.total_seconds()"
   ]
  },
  {
   "cell_type": "code",
   "execution_count": 14,
   "id": "22d889f8-75b4-4042-b9e6-7d80983fee44",
   "metadata": {},
   "outputs": [
    {
     "name": "stdout",
     "output_type": "stream",
     "text": [
      "Index([0.0, 60.0, 120.0, 180.0, 240.0, 300.0, 360.0, 420.0, 480.0, 540.0], dtype='float64')\n"
     ]
    }
   ],
   "source": [
    "print(delta[0:10])"
   ]
  },
  {
   "cell_type": "code",
   "execution_count": 15,
   "id": "078c85b0-9d97-4e2e-b1c5-c7f3cace8ab6",
   "metadata": {},
   "outputs": [],
   "source": [
    "from datetime import datetime\n",
    "\n",
    "def percentage_through_year(datetimes):\n",
    "    percentages = []\n",
    "    for dt in datetimes:\n",
    "        start_of_year = datetime(dt.year, 1, 1)\n",
    "        start_of_next_year = datetime(dt.year + 1, 1, 1)\n",
    "        year_duration = (start_of_next_year - start_of_year).total_seconds()\n",
    "        elapsed = (dt - start_of_year).total_seconds()\n",
    "        percentage = (elapsed / year_duration) * 100\n",
    "        percentages.append(percentage)\n",
    "    return percentages"
   ]
  },
  {
   "cell_type": "code",
   "execution_count": 16,
   "id": "a2642b75-350c-4e55-bc97-80d86c7cca5d",
   "metadata": {},
   "outputs": [],
   "source": [
    "percentages = percentage_through_year(timearray)\n"
   ]
  },
  {
   "cell_type": "code",
   "execution_count": 17,
   "id": "0def1dad-e447-461e-8592-921ce053047b",
   "metadata": {},
   "outputs": [
    {
     "name": "stdout",
     "output_type": "stream",
     "text": [
      "[0.0, 0.0001902587519025875, 0.000380517503805175, 0.0005707762557077625, 0.00076103500761035, 0.0009512937595129377, 0.001141552511415525, 0.0013318112633181126, 0.0015220700152207, 0.0017123287671232876]\n"
     ]
    }
   ],
   "source": [
    "print(percentages[0:10])"
   ]
  },
  {
   "cell_type": "code",
   "execution_count": 19,
   "id": "d9967d60-a60b-4db4-b6dc-159a0bb3bb9e",
   "metadata": {},
   "outputs": [
    {
     "name": "stdout",
     "output_type": "stream",
     "text": [
      "['HAS_APX', 'ROOT', '__builtins__', '__cached__', '__doc__', '__file__', '__loader__', '__name__', '__package__', '__spec__', '_dipole_to_unit', '_qdipole', '_qdipole_nonvectorized', 'basevectors_gg', 'basevectors_gsm', 'basevectors_mag', 'basevectors_sm', 'basevectors_use', 'cartesian_to_spherical', 'center_azimuth', 'clock_angle', 'config_utils', 'coupling_Newell', 'data_utils', 'dipole_tilt', 'dipole_to_vec', 'factorial', 'geo_to_base', 'geo_to_gg', 'gg_to_geo', 'igrf_dipole', 'local_time', 'matrix_geo_to_base', 'model_utils', 'np', 'os', 'q_response', 'q_response_1D', 'qdipole', 'rotate_gauss', 'rotate_gauss_fft', 'sh_analysis', 'spherical_to_cartesian', 'sun_position', 'synth_rotate_gauss', 'transform_points', 'transform_vectors', 'zenith_angle']\n"
     ]
    },
    {
     "name": "stderr",
     "output_type": "stream",
     "text": [
      "/tmp/ipykernel_21211/1636105062.py:14: DeprecationWarning: parsing timezone aware datetimes is deprecated; this will raise an error in the future\n",
      "  unix_epoch = np.datetime64('1970-01-01T00:00:00Z')\n"
     ]
    }
   ],
   "source": [
    "##MAGNETIC LOCAL TIME##\n",
    "\n",
    "###This is not magnetic local time. This is just plain ol local time. How to get magnetic local time?\n",
    "##!pip install apexpy\n",
    "##!conda install -c conda-forge apexpy\n",
    "##!pip install --upgrade chaosmagpy\n",
    "import chaosmagpy.coordinate_utils\n",
    "print(dir(chaosmagpy.coordinate_utils))\n",
    "\n",
    "def datetime_to_mjd(dtimes):\n",
    "    # Convert pandas or numpy datetime64 to JD then to MJD\n",
    "    # Reference: JD = 2440587.5 + unix_time_in_days\n",
    "    # Unix epoch: 1970-01-01 00:00:00 UTC\n",
    "    unix_epoch = np.datetime64('1970-01-01T00:00:00Z')\n",
    "    dtimes = np.array(dtimes, dtype='datetime64[ns]')\n",
    "    unix_seconds = (dtimes - unix_epoch) / np.timedelta64(1, 's')\n",
    "    jd = unix_seconds / 86400.0 + 2440587.5\n",
    "    mjd = jd - 2400000.5\n",
    "    return mjd\n",
    "\n",
    "# Example\n",
    "mjd_times = datetime_to_mjd(obs.Timestamp)\n",
    "\n",
    "#longitude_deg=358.817\n",
    "mlt = chaosmagpy.coordinate_utils.local_time(mjd_times, longitude_deg)"
   ]
  },
  {
   "cell_type": "code",
   "execution_count": 20,
   "id": "732f9c11-b730-4bfc-9b7f-bb0153e086f1",
   "metadata": {},
   "outputs": [
    {
     "name": "stdout",
     "output_type": "stream",
     "text": [
      "[2.39211333e+01 2.39378000e+01 2.39544667e+01 2.39711333e+01\n",
      " 2.39878000e+01 4.46666172e-03 2.11333386e-02 3.78000042e-02\n",
      " 5.44666699e-02 7.11333356e-02]\n"
     ]
    }
   ],
   "source": [
    "print(mlt[0:10])"
   ]
  },
  {
   "cell_type": "code",
   "execution_count": null,
   "id": "bd6d3d99-354b-4a72-9805-e046017a3117",
   "metadata": {},
   "outputs": [],
   "source": []
  },
  {
   "cell_type": "code",
   "execution_count": null,
   "id": "47f23a7d-b951-4efa-835d-3906c945f1a9",
   "metadata": {},
   "outputs": [],
   "source": [
    "#positional encoding."
   ]
  },
  {
   "cell_type": "code",
   "execution_count": null,
   "id": "1ce8bb87-af14-4ed2-9925-6deaf1f2e719",
   "metadata": {},
   "outputs": [],
   "source": [
    "import numpy as np\n",
    "import matplotlib.pyplot as plt\n",
    "\n",
    "seq_len=len(obs.Timestamp)\n",
    "d=12 ##Number of hidden layers.\n",
    "\n",
    "def getPositionEncoding(seq_len, d, n=10000): #set to 10000 by Attention is all you need\n",
    "    P = np.zeros((seq_len, d))\n",
    "    for k in tqdm.tqdm(range(seq_len)):\n",
    "        for i in np.arange(int(d/2)):\n",
    "            denominator = np.power(n, 2*i/d)\n",
    "            P[k, 2*i] = np.sin(k/denominator)\n",
    "            P[k, 2*i+1] = np.cos(k/denominator)\n",
    "    return P\n",
    " \n",
    "P = getPositionEncoding(seq_len, d, n=100)\n",
    "print(P[0:10])"
   ]
  },
  {
   "cell_type": "code",
   "execution_count": null,
   "id": "17b319b6-10fc-46c9-bbb8-e73dc2486fdd",
   "metadata": {},
   "outputs": [],
   "source": [
    "events_tot.head()"
   ]
  },
  {
   "cell_type": "code",
   "execution_count": null,
   "id": "8d288e14-76e3-4674-9d98-aef84e9090c5",
   "metadata": {},
   "outputs": [],
   "source": [
    "print(k[0:10])"
   ]
  },
  {
   "cell_type": "code",
   "execution_count": 26,
   "id": "a1ee84f1-5e29-478b-8b38-e94294d4aa4b",
   "metadata": {},
   "outputs": [
    {
     "ename": "AttributeError",
     "evalue": "'DataFrame' object has no attribute 'to_dataframe'",
     "output_type": "error",
     "traceback": [
      "\u001b[0;31m---------------------------------------------------------------------------\u001b[0m",
      "\u001b[0;31mAttributeError\u001b[0m                            Traceback (most recent call last)",
      "\u001b[0;32m/tmp/ipykernel_21211/3250868345.py\u001b[0m in \u001b[0;36m?\u001b[0;34m()\u001b[0m\n\u001b[1;32m      5\u001b[0m \u001b[0mpercentages\u001b[0m \u001b[0;34m=\u001b[0m \u001b[0mpd\u001b[0m\u001b[0;34m.\u001b[0m\u001b[0mSeries\u001b[0m\u001b[0;34m(\u001b[0m\u001b[0mpercentages\u001b[0m\u001b[0;34m)\u001b[0m \u001b[0;32mif\u001b[0m \u001b[0misinstance\u001b[0m\u001b[0;34m(\u001b[0m\u001b[0mpercentages\u001b[0m\u001b[0;34m,\u001b[0m \u001b[0mlist\u001b[0m\u001b[0;34m)\u001b[0m \u001b[0;32melse\u001b[0m \u001b[0mpercentages\u001b[0m\u001b[0;34m\u001b[0m\u001b[0;34m\u001b[0m\u001b[0m\n\u001b[1;32m      6\u001b[0m \u001b[0msunspotnum\u001b[0m \u001b[0;34m=\u001b[0m \u001b[0mpd\u001b[0m\u001b[0;34m.\u001b[0m\u001b[0mSeries\u001b[0m\u001b[0;34m(\u001b[0m\u001b[0msunspotnum\u001b[0m\u001b[0;34m[\u001b[0m\u001b[0;36m4\u001b[0m\u001b[0;34m]\u001b[0m\u001b[0;34m)\u001b[0m \u001b[0;32mif\u001b[0m \u001b[0misinstance\u001b[0m\u001b[0;34m(\u001b[0m\u001b[0msunspotnum\u001b[0m\u001b[0;34m[\u001b[0m\u001b[0;36m4\u001b[0m\u001b[0;34m]\u001b[0m\u001b[0;34m,\u001b[0m \u001b[0mlist\u001b[0m\u001b[0;34m)\u001b[0m \u001b[0;32melse\u001b[0m \u001b[0msunspotnum\u001b[0m\u001b[0;34m\u001b[0m\u001b[0;34m\u001b[0m\u001b[0m\n\u001b[1;32m      7\u001b[0m \u001b[0;31m#P = pd.Series(P) if isinstance(P, list) else P\u001b[0m\u001b[0;34m\u001b[0m\u001b[0;34m\u001b[0m\u001b[0m\n\u001b[1;32m      8\u001b[0m \u001b[0;34m\u001b[0m\u001b[0m\n\u001b[0;32m----> 9\u001b[0;31m \u001b[0mevents_tot\u001b[0m \u001b[0;34m=\u001b[0m \u001b[0mevents_tot\u001b[0m\u001b[0;34m.\u001b[0m\u001b[0mto_dataframe\u001b[0m\u001b[0;34m(\u001b[0m\u001b[0;34m)\u001b[0m\u001b[0;34m\u001b[0m\u001b[0;34m\u001b[0m\u001b[0m\n\u001b[0m\u001b[1;32m     10\u001b[0m \u001b[0mmlt\u001b[0m \u001b[0;34m=\u001b[0m \u001b[0mpd\u001b[0m\u001b[0;34m.\u001b[0m\u001b[0mSeries\u001b[0m\u001b[0;34m(\u001b[0m\u001b[0mmlt\u001b[0m\u001b[0;34m)\u001b[0m \u001b[0;32mif\u001b[0m \u001b[0mmlt\u001b[0m\u001b[0;34m.\u001b[0m\u001b[0mndim\u001b[0m \u001b[0;34m==\u001b[0m \u001b[0;36m1\u001b[0m \u001b[0;32melse\u001b[0m \u001b[0mpd\u001b[0m\u001b[0;34m.\u001b[0m\u001b[0mDataFrame\u001b[0m\u001b[0;34m(\u001b[0m\u001b[0mmlt\u001b[0m\u001b[0;34m)\u001b[0m\u001b[0;34m\u001b[0m\u001b[0;34m\u001b[0m\u001b[0m\n\u001b[1;32m     11\u001b[0m \u001b[0;31m#P = pd.Series(P) if P.ndim == 1 else pd.DataFrame(P)\u001b[0m\u001b[0;34m\u001b[0m\u001b[0;34m\u001b[0m\u001b[0m\n\u001b[1;32m     12\u001b[0m \u001b[0;34m\u001b[0m\u001b[0m\n",
      "\u001b[0;32m~/.local/lib/python3.10/site-packages/pandas/core/generic.py\u001b[0m in \u001b[0;36m?\u001b[0;34m(self, name)\u001b[0m\n\u001b[1;32m   6295\u001b[0m             \u001b[0;32mand\u001b[0m \u001b[0mname\u001b[0m \u001b[0;32mnot\u001b[0m \u001b[0;32min\u001b[0m \u001b[0mself\u001b[0m\u001b[0;34m.\u001b[0m\u001b[0m_accessors\u001b[0m\u001b[0;34m\u001b[0m\u001b[0;34m\u001b[0m\u001b[0m\n\u001b[1;32m   6296\u001b[0m             \u001b[0;32mand\u001b[0m \u001b[0mself\u001b[0m\u001b[0;34m.\u001b[0m\u001b[0m_info_axis\u001b[0m\u001b[0;34m.\u001b[0m\u001b[0m_can_hold_identifiers_and_holds_name\u001b[0m\u001b[0;34m(\u001b[0m\u001b[0mname\u001b[0m\u001b[0;34m)\u001b[0m\u001b[0;34m\u001b[0m\u001b[0;34m\u001b[0m\u001b[0m\n\u001b[1;32m   6297\u001b[0m         ):\n\u001b[1;32m   6298\u001b[0m             \u001b[0;32mreturn\u001b[0m \u001b[0mself\u001b[0m\u001b[0;34m[\u001b[0m\u001b[0mname\u001b[0m\u001b[0;34m]\u001b[0m\u001b[0;34m\u001b[0m\u001b[0;34m\u001b[0m\u001b[0m\n\u001b[0;32m-> 6299\u001b[0;31m         \u001b[0;32mreturn\u001b[0m \u001b[0mobject\u001b[0m\u001b[0;34m.\u001b[0m\u001b[0m__getattribute__\u001b[0m\u001b[0;34m(\u001b[0m\u001b[0mself\u001b[0m\u001b[0;34m,\u001b[0m \u001b[0mname\u001b[0m\u001b[0;34m)\u001b[0m\u001b[0;34m\u001b[0m\u001b[0;34m\u001b[0m\u001b[0m\n\u001b[0m",
      "\u001b[0;31mAttributeError\u001b[0m: 'DataFrame' object has no attribute 'to_dataframe'"
     ]
    }
   ],
   "source": [
    "###Bring it all togther\n",
    "k = pd.Series(k) if isinstance(k, list) else k\n",
    "events_tot = pd.Series(events_tot) if isinstance(events_tot, list) else events_tot\n",
    "mlt = pd.Series(mlt) if isinstance(mlt, list) else mlt\n",
    "percentages = pd.Series(percentages) if isinstance(percentages, list) else percentages\n",
    "sunspotnum = pd.Series(sunspotnum[4]) if isinstance(sunspotnum[4], list) else sunspotnum\n",
    "#P = pd.Series(P) if isinstance(P, list) else P\n",
    "\n",
    "events_tot = events_tot.to_dataframe()\n",
    "mlt = pd.Series(mlt) if mlt.ndim == 1 else pd.DataFrame(mlt)\n",
    "#P = pd.Series(P) if P.ndim == 1 else pd.DataFrame(P)\n",
    "\n",
    "#print(type(k),type(events_tot),type(mlt),type(percentages),type(sunspotnum),type(P))\n"
   ]
  },
  {
   "cell_type": "code",
   "execution_count": 27,
   "id": "4b9bf5e9-49de-4877-acbb-ab415b1cccf9",
   "metadata": {},
   "outputs": [
    {
     "ename": "NameError",
     "evalue": "name 'P' is not defined",
     "output_type": "error",
     "traceback": [
      "\u001b[0;31m---------------------------------------------------------------------------\u001b[0m",
      "\u001b[0;31mNameError\u001b[0m                                 Traceback (most recent call last)",
      "Cell \u001b[0;32mIn[27], line 1\u001b[0m\n\u001b[0;32m----> 1\u001b[0m \u001b[38;5;28mprint\u001b[39m(events_tot\u001b[38;5;241m.\u001b[39mhead(),\u001b[38;5;124m'\u001b[39m\u001b[38;5;124mand\u001b[39m\u001b[38;5;124m'\u001b[39m,k\u001b[38;5;241m.\u001b[39mhead(),\u001b[38;5;124m'\u001b[39m\u001b[38;5;124mwith\u001b[39m\u001b[38;5;124m'\u001b[39m,mlt\u001b[38;5;241m.\u001b[39mhead(),percentages\u001b[38;5;241m.\u001b[39mhead(),sunspotnum[\u001b[38;5;241m4\u001b[39m]\u001b[38;5;241m.\u001b[39mhead(),\u001b[43mP\u001b[49m\u001b[38;5;241m.\u001b[39mhead())\n",
      "\u001b[0;31mNameError\u001b[0m: name 'P' is not defined"
     ]
    }
   ],
   "source": [
    "print(events_tot.head(),'and',k.head(),'with',mlt.head(),percentages.head(),sunspotnum[4].head(),P.head())"
   ]
  },
  {
   "cell_type": "code",
   "execution_count": 28,
   "id": "c88c317d-15d4-41f4-ab85-cdec8b42f15b",
   "metadata": {},
   "outputs": [
    {
     "ename": "NameError",
     "evalue": "name 'P' is not defined",
     "output_type": "error",
     "traceback": [
      "\u001b[0;31m---------------------------------------------------------------------------\u001b[0m",
      "\u001b[0;31mNameError\u001b[0m                                 Traceback (most recent call last)",
      "Cell \u001b[0;32mIn[28], line 1\u001b[0m\n\u001b[0;32m----> 1\u001b[0m \u001b[38;5;28mprint\u001b[39m(events_tot\u001b[38;5;241m.\u001b[39mshape, k\u001b[38;5;241m.\u001b[39mshape, mlt\u001b[38;5;241m.\u001b[39mshape, percentages\u001b[38;5;241m.\u001b[39mshape, sunspotnum[\u001b[38;5;241m4\u001b[39m]\u001b[38;5;241m.\u001b[39mshape, \u001b[43mP\u001b[49m\u001b[38;5;241m.\u001b[39mshape)\n",
      "\u001b[0;31mNameError\u001b[0m: name 'P' is not defined"
     ]
    }
   ],
   "source": [
    "print(events_tot.shape, k.shape, mlt.shape, percentages.shape, sunspotnum[4].shape, P.shape)\n"
   ]
  },
  {
   "cell_type": "code",
   "execution_count": 29,
   "id": "7411584f-6dd9-4ecb-9dc9-cacb28e32b31",
   "metadata": {},
   "outputs": [],
   "source": [
    "events_tot.to_csv(PATH+'OMNImerge'+observatory+'19982020withPosEncCHAOS8.csv',index=True)"
   ]
  },
  {
   "cell_type": "code",
   "execution_count": 32,
   "id": "c273cc60-75d4-424d-9958-2b6a7aea9a71",
   "metadata": {},
   "outputs": [],
   "source": [
    "# Input CSV\n",
    "input_file = PATH+'OMNImerge'+observatory+'19982020withPosEncCHAOS8.csv'\n",
    "output_file = PATH+'OMNImerge'+observatory+'19982020withPosEnc_reorderedCHAOS.csv'\n",
    "\n",
    "# Example extra data\n",
    "\n",
    "#P_cols = {f\"PosEnc_{i}\": P.iloc[:, i].values for i in range(P.shape[1])}\n",
    "sunspot_series = sunspotnum.iloc[:, 4].values\n",
    "\n",
    "# (length must match the full CSV rows)\n",
    "extra_df = pd.DataFrame({\n",
    "    #\"k\": k,  # example\n",
    "    \"mlt\": mlt,\n",
    "    \"percentages\": percentages,\n",
    "    \"sunspotnum\": sunspot_series,\n",
    "    #**P_cols\n",
    "})\n",
    "\n",
    "# Iterator over the extra_df in chunks as well\n",
    "extra_iter = (extra_df[i:i+100000] for i in range(0, len(extra_df), 100000))\n",
    "\n",
    "first = True\n",
    "for chunk, extra_chunk in zip(\n",
    "    pd.read_csv(input_file, chunksize=100000),\n",
    "    extra_iter\n",
    "):\n",
    "    # Align and add new columns\n",
    "    chunk = chunk.reset_index(drop=True)\n",
    "    extra_chunk = extra_chunk.reset_index(drop=True)\n",
    "    chunk = pd.concat([chunk, extra_chunk], axis=1)\n",
    "\n",
    "    # Write incrementally\n",
    "    chunk.to_csv(\n",
    "        output_file,\n",
    "        mode=\"a\",\n",
    "        index=False,\n",
    "        header=first\n",
    "    )\n",
    "    first = False"
   ]
  },
  {
   "cell_type": "code",
   "execution_count": null,
   "id": "514cd009-8e9f-444f-af90-148d3eae2427",
   "metadata": {},
   "outputs": [],
   "source": [
    "import pandas as pd\n",
    "\n",
    "input_file = PATH+'OMNImerge'+observatory+'19982020withPosEnc_reordered.csv'\n",
    "\n",
    "# Read just the first chunk (e.g., 1000 rows)\n",
    "chunk = pd.read_csv(input_file, nrows=1000)\n",
    "\n",
    "for col in chunk.columns:\n",
    "    series = chunk[col]\n",
    "    print(f\"Column: {col}\")\n",
    "    print(f\"  Type: {series.dtype}\")\n",
    "    print(f\"  Shape (sample chunk): {series.shape}\")\n",
    "    print(f\"  First 5 values: {series.head().tolist()}\")\n",
    "    print(\"-\" * 50)"
   ]
  },
  {
   "cell_type": "code",
   "execution_count": null,
   "id": "6a225405-f93a-43cd-b3b2-ba79333d5fc9",
   "metadata": {},
   "outputs": [],
   "source": [
    "import pandas as pd\n",
    "\n",
    "input_file = PATH+'OMNImerge'+observatory+'19982020withPosEnc_reordered.csv'\n",
    "\n",
    "# Initialize a dictionary to store total counts\n",
    "col_lengths = {}\n",
    "\n",
    "# Read CSV in chunks\n",
    "chunksize = 100000\n",
    "for chunk in pd.read_csv(input_file, chunksize=chunksize):\n",
    "    for col in chunk.columns:\n",
    "        col_lengths[col] = col_lengths.get(col, 0) + len(chunk[col])\n",
    "\n",
    "# Print results\n",
    "for col, total_len in col_lengths.items():\n",
    "    print(f\"Column: {col}, Total Length: {total_len}\")"
   ]
  },
  {
   "cell_type": "code",
   "execution_count": null,
   "id": "e4536b81-07e0-4421-a78b-4fdacefc7f8c",
   "metadata": {},
   "outputs": [],
   "source": [
    "###Replace NaNs with zeros\n",
    "\n",
    "import pandas as pd\n",
    "\n",
    "input_file = PATH+'OMNImerge'+observatory+'19982020withPosEnc_reorderedCHAOS.csv'\n",
    "output_file = PATH+'OMNImerge'+observatory+'19982020withPosEnc_reordered_CHAOS8NaNszeros.csv'\n",
    "\n",
    "if os.path.exists(output_file):\n",
    "    os.remove(output_file)\n",
    "\n",
    "chunk_size = 100000  # adjust based on memory\n",
    "first = True\n",
    "\n",
    "for chunk in pd.read_csv(input_file, chunksize=chunk_size):\n",
    "    # Replace NaNs with 0\n",
    "    chunk = chunk.fillna(0)\n",
    "    \n",
    "    # Append to output CSV\n",
    "    chunk.to_csv(\n",
    "        output_file,\n",
    "        mode=\"a\",\n",
    "        index=False,\n",
    "        header=first\n",
    "    )\n",
    "    first = False"
   ]
  },
  {
   "cell_type": "code",
   "execution_count": null,
   "id": "d9fa5368-5b8e-4e6f-a129-ff45ce9758bc",
   "metadata": {},
   "outputs": [],
   "source": [
    "import pandas as pd\n",
    "\n",
    "input_file = PATH+'OMNImerge'+observatory+'19982020withPosEnc_reordered_NaNszeros.csv'\n",
    "\n",
    "# Read just the first chunk (e.g., 1000 rows)\n",
    "chunk = pd.read_csv(input_file, nrows=1000)\n",
    "\n",
    "for col in chunk.columns:\n",
    "    series = chunk[col]\n",
    "    print(f\"Column: {col}\")\n",
    "    print(f\"  Type: {series.dtype}\")\n",
    "    print(f\"  Shape (sample chunk): {series.shape}\")\n",
    "    print(f\"  First 5 values: {series.head().tolist()}\")\n",
    "    print(\"-\" * 50)"
   ]
  },
  {
   "cell_type": "code",
   "execution_count": null,
   "id": "016f76a8-6e6e-4c6a-b49b-d2ae579715f5",
   "metadata": {},
   "outputs": [],
   "source": [
    "### Replace NaNs with persistence values.\n",
    "\n",
    "import pandas as pd\n",
    "\n",
    "# Parameters\n",
    "input_file = PATH+'OMNImerge'+observatory+'19982020withPosEnc_reordered.csv'\n",
    "output_file = PATH+'OMNImerge'+observatory+'19982020withPosEnc_reordered_NaNspersistence.csv'\n",
    "chunksize = 100000  # Number of rows per chunk (adjust based on memory)\n",
    "\n",
    "last_values = {}  # Keeps track of last seen values for each column\n",
    "first_chunk = True\n",
    "\n",
    "for chunk in pd.read_csv(input_file, chunksize=chunksize):\n",
    "    # Forward-fill NaNs using last seen values\n",
    "    for col in chunk.columns:\n",
    "        if col in last_values:\n",
    "            # Fill NaNs at the start of the chunk with last seen value\n",
    "            chunk[col].iloc[0] = chunk[col].iloc[0] if pd.notna(chunk[col].iloc[0]) else last_values[col]\n",
    "        # Now do normal forward fill within the chunk\n",
    "        chunk[col] = chunk[col].ffill()\n",
    "        # Update last seen value for next chunk\n",
    "        if pd.notna(chunk[col].iloc[-1]):\n",
    "            last_values[col] = chunk[col].iloc[-1]\n",
    "    \n",
    "    # Write to output CSV\n",
    "    chunk.to_csv(output_file, mode='a', index=False, header=first_chunk)\n",
    "    first_chunk = False"
   ]
  },
  {
   "cell_type": "code",
   "execution_count": null,
   "id": "d7a8e996-796d-4000-9131-3b371efa9d74",
   "metadata": {},
   "outputs": [],
   "source": [
    "import pandas as pd\n",
    "\n",
    "input_file = PATH+'OMNImerge'+observatory+'19982020withPosEnc_reordered.csv'\n",
    "\n",
    "# Initialize a dictionary to store total counts\n",
    "col_lengths = {}\n",
    "\n",
    "# Read CSV in chunks\n",
    "chunksize = 100000\n",
    "for chunk in pd.read_csv(input_file, chunksize=chunksize):\n",
    "    for col in chunk.columns:\n",
    "        col_lengths[col] = col_lengths.get(col, 0) + len(chunk[col])\n",
    "\n",
    "# Print results\n",
    "for col, total_len in col_lengths.items():\n",
    "    print(f\"Column: {col}, Total Length: {total_len}\")"
   ]
  },
  {
   "cell_type": "code",
   "execution_count": null,
   "id": "640fbf19-dbf7-498b-a8dd-e9fac17ccc2f",
   "metadata": {},
   "outputs": [],
   "source": [
    "#events_tot = pd.concat([events_tot,k, mlt, percentages, sunspotnum.iloc[:, [4]], P], axis=1)"
   ]
  },
  {
   "cell_type": "code",
   "execution_count": null,
   "id": "795f8ea5-7adb-4f74-873a-a2c362471c83",
   "metadata": {},
   "outputs": [],
   "source": [
    "print(events_tot.shape())"
   ]
  },
  {
   "cell_type": "code",
   "execution_count": null,
   "id": "d096d7d8-72f2-4422-8ce3-cf92702d3299",
   "metadata": {},
   "outputs": [],
   "source": [
    "with pd.option_context('display.max_columns', None):\n",
    "    print(events_tot.head())"
   ]
  },
  {
   "cell_type": "code",
   "execution_count": null,
   "id": "22394f00-d531-4609-b8af-ca6877be802e",
   "metadata": {},
   "outputs": [],
   "source": [
    "###Step 5: save OMNI data.\n",
    "\n",
    "###Save to csv file\n",
    "# Convert xarray Dataset to pandas DataFrame\n",
    "#events_tot = events_tot.to_dataframe()\n",
    "\n",
    "# Save the DataFrame to a CSV file\n",
    "events_tot.to_csv(PATH+'OMNImerge'+observatory+'19982020withPosEnc.csv',index=True)"
   ]
  },
  {
   "cell_type": "code",
   "execution_count": null,
   "id": "2d11c388-a2d1-4d03-8aab-2444111fde87",
   "metadata": {},
   "outputs": [],
   "source": [
    "# Convert DataFrame to xarray Dataset\n",
    "events_tot = xr.Dataset.from_dataframe(events_tot)\n",
    "\n",
    "# Save as NetCDF\n",
    "events_tot.to_netcdf(PATH + f'OMNImerge{observatory}19982020withPosEnc.nc')"
   ]
  },
  {
   "cell_type": "code",
   "execution_count": null,
   "id": "e3ffa4a1-5359-45ab-994b-3a95e241fad7",
   "metadata": {},
   "outputs": [],
   "source": [
    "import pandas as pd\n",
    "import numpy as np\n",
    "observatory='LER'\n",
    "\n",
    "#df = pd.read_csv(PATH + f'OMNImerge{observatory}19982020withPosEnc.csv')\n",
    "#np.save(PATH + f'OMNImerge{observatory}19982020withPosEnc.npy', df.values)"
   ]
  },
  {
   "cell_type": "code",
   "execution_count": null,
   "id": "bb52b6ed-31d9-4665-8d54-941e24053303",
   "metadata": {},
   "outputs": [],
   "source": [
    "#arr = np.loadtxt(PATH + f'OMNImerge{observatory}19982020withPosEnc.csv', delimiter=\",\", skiprows=1)\n",
    "#np.save(PATH + f'OMNImerge{observatory}19982020withPosEnc.npy', arr)"
   ]
  },
  {
   "cell_type": "code",
   "execution_count": null,
   "id": "17fb6c59-aae3-45fc-880e-c7e6a321303c",
   "metadata": {},
   "outputs": [],
   "source": [
    "import pandas as pd\n",
    "import numpy as np\n",
    "\n",
    "chunksize = 500_000  # adjust so it fits your RAM\n",
    "out_file = PATH + f'OMNImerge{observatory}19982020withPosEnc.npy'\n",
    "\n",
    "first_chunk = True\n",
    "for chunk in tqdm.tqdm(pd.read_csv(PATH + f'OMNImerge{observatory}19982020withPosEnc.csv', chunksize=chunksize)):\n",
    "    arr = chunk.to_numpy()\n",
    "    if first_chunk:\n",
    "        np.save(out_file, arr)\n",
    "        first_chunk = False\n",
    "    else:\n",
    "        # Append to existing npy (requires a different format, see Option 2)\n",
    "        with open(out_file, 'ab') as f:\n",
    "            np.save(f, arr)"
   ]
  },
  {
   "cell_type": "code",
   "execution_count": null,
   "id": "d61aff7b-724c-446b-b6b4-2722b2ad8f74",
   "metadata": {},
   "outputs": [],
   "source": [
    "#Check works okay."
   ]
  },
  {
   "cell_type": "code",
   "execution_count": null,
   "id": "c4f4ab72-c9af-40b9-a63b-2be92dedeeec",
   "metadata": {},
   "outputs": [],
   "source": [
    "import numpy as np\n",
    "\n",
    "data = np.load(PATH + f'OMNImerge{observatory}19982020withPosEnc.npy',allow_pickle=True)\n",
    "print(data.shape)\n",
    "print(data.dtype)\n",
    "print(data[0:10])"
   ]
  },
  {
   "cell_type": "code",
   "execution_count": null,
   "id": "b2ebae74-e58e-4d29-b60c-27f5abfb3a54",
   "metadata": {},
   "outputs": [],
   "source": [
    "import pandas as pd\n",
    "observatory='LER'\n",
    "PATH = '/mnt/c/users/s1725621/Documents/PhDCode/Git/CrossformerTimeSeries/Data/'\n",
    "\n",
    "events_tot=pd.read_csv(PATH + f'OMNImerge{observatory}19982020withPosEnc.csv')\n",
    "\n",
    "events_tot.head()"
   ]
  },
  {
   "cell_type": "code",
   "execution_count": null,
   "id": "729c1f41-a7ad-4a7a-9b14-c5c41be5caf9",
   "metadata": {},
   "outputs": [],
   "source": [
    "import pandas as pd\n",
    "\n",
    "observatory = 'LER'\n",
    "PATH = '/mnt/c/users/s1725621/Documents/PhDCode/Git/CrossformerTimeSeries/Data/'\n",
    "input_file = PATH + f'OMNImerge{observatory}19982020withPosEnc.csv'\n",
    "\n",
    "# Read only first few rows to infer dtypes\n",
    "sample = pd.read_csv(input_file, nrows=1000)  # small sample\n",
    "print(sample.dtypes)"
   ]
  },
  {
   "cell_type": "code",
   "execution_count": null,
   "id": "3e805700-0ae5-4f31-b35f-5a41dbaf3ea0",
   "metadata": {},
   "outputs": [],
   "source": [
    "import pandas as pd\n",
    "\n",
    "observatory = 'LER'\n",
    "PATH = '/mnt/c/users/s1725621/Documents/PhDCode/Git/CrossformerTimeSeries/Data/'\n",
    "\n",
    "input_file = PATH + f'OMNImerge{observatory}19982020withPosEnc.csv'\n",
    "output_file = PATH + f'OMNImerge{observatory}19982020withPosEnc_reordered.csv'\n",
    "\n",
    "chunksize = 500000  # adjust based on your RAM\n",
    "\n",
    "with pd.read_csv(input_file, chunksize=chunksize) as reader:\n",
    "    for i, chunk in enumerate(reader):\n",
    "        # Move 'Unnamed: 0' to the last column\n",
    "        if 'Unnamed: 0' in chunk.columns:\n",
    "            cols = [c for c in chunk.columns if c != 'Unnamed: 0'] + ['Unnamed: 0']\n",
    "            chunk = chunk[cols]\n",
    "\n",
    "        # Optionally, convert the last column to float64\n",
    "        last_col_name = chunk.columns[-1]\n",
    "        chunk[last_col_name] = chunk[last_col_name].astype('float64')\n",
    "\n",
    "        # Write to CSV\n",
    "        if i == 0:\n",
    "            chunk.to_csv(output_file, index=False)\n",
    "        else:\n",
    "            chunk.to_csv(output_file, index=False, mode='a', header=False)"
   ]
  },
  {
   "cell_type": "code",
   "execution_count": null,
   "id": "2681e293-8022-460d-98d9-16ca9e6f1d90",
   "metadata": {},
   "outputs": [],
   "source": [
    "import pandas as pd\n",
    "\n",
    "observatory = 'LER'\n",
    "PATH = '/mnt/c/users/s1725621/Documents/PhDCode/Git/CrossformerTimeSeries/Data/'\n",
    "input_file = PATH + f'OMNImerge{observatory}19982020withPosEnc_reordered.csv'\n",
    "\n",
    "# Read only first few rows to infer dtypes\n",
    "sample = pd.read_csv(input_file, nrows=1000)  # small sample\n",
    "print(sample.dtypes)"
   ]
  },
  {
   "cell_type": "code",
   "execution_count": null,
   "id": "17f195d1-8a45-41d6-b60f-91d94b3a5da3",
   "metadata": {},
   "outputs": [],
   "source": [
    "import pandas as pd\n",
    "\n",
    "file_path = PATH + f'OMNImerge{observatory}19982020withPosEnc_reordered.csv'\n",
    "\n",
    "# Just read the first row to get column names\n",
    "cols = pd.read_csv(file_path, nrows=0)\n",
    "print(cols.columns.tolist())"
   ]
  },
  {
   "cell_type": "code",
   "execution_count": null,
   "id": "2a813adb-ed71-412e-817e-494f553764ec",
   "metadata": {},
   "outputs": [],
   "source": [
    "import pandas as pd\n",
    "\n",
    "# Path to your big file\n",
    "file_path = PATH + f'OMNImerge{observatory}19982020withPosEnc_reordered.csv'\n",
    "\n",
    "# Column you want to extract\n",
    "column_name = 'Unnamed: 0'\n",
    "\n",
    "# Create an iterator to read only that column\n",
    "col_data = []\n",
    "\n",
    "# Read in chunks\n",
    "for chunk in pd.read_csv(file_path, usecols=[column_name], chunksize=100000):\n",
    "    col_data.append(chunk)\n",
    "\n",
    "# Combine all chunks into one Series\n",
    "result = pd.concat(col_data, ignore_index=True)"
   ]
  },
  {
   "cell_type": "code",
   "execution_count": null,
   "id": "d21190e3-a78d-443d-a458-65d719374d93",
   "metadata": {},
   "outputs": [],
   "source": [
    "import matplotlib.pyplot as plt\n",
    "\n",
    "plt.plot(result)\n",
    "print(len(result))"
   ]
  },
  {
   "cell_type": "code",
   "execution_count": null,
   "id": "96db344d-e67e-449e-afcf-2a9feda22652",
   "metadata": {},
   "outputs": [],
   "source": [
    "import pandas as pd\n",
    "\n",
    "# Path to your big file\n",
    "file_path = PATH + f'OMNImerge{observatory}19982020withPosEnc_reordered.csv'\n",
    "\n",
    "# Column you want to extract\n",
    "column_name = 'B_N'\n",
    "\n",
    "# Create an iterator to read only that column\n",
    "col_data = []\n",
    "\n",
    "# Read in chunks\n",
    "for chunk in pd.read_csv(file_path, usecols=[column_name], chunksize=100000):\n",
    "    col_data.append(chunk)\n",
    "\n",
    "# Combine all chunks into one Series\n",
    "result = pd.concat(col_data, ignore_index=True)"
   ]
  },
  {
   "cell_type": "code",
   "execution_count": null,
   "id": "3913256e-5161-4b0d-a062-16feeaf7b3f5",
   "metadata": {},
   "outputs": [],
   "source": [
    "import matplotlib.pyplot as plt\n",
    "\n",
    "plt.plot(result)\n",
    "print(len(result))"
   ]
  },
  {
   "cell_type": "code",
   "execution_count": null,
   "id": "3ebdad03-7275-46e5-b72f-644d3ae13c6b",
   "metadata": {},
   "outputs": [],
   "source": [
    "import pandas as pd\n",
    "\n",
    "# Path to your big file\n",
    "file_path = PATH + f'OMNImerge{observatory}19982020withPosEnc.csv'\n",
    "\n",
    "# Column you want to extract\n",
    "column_name = 'B_N'\n",
    "\n",
    "# Create an iterator to read only that column\n",
    "col_data = []\n",
    "\n",
    "# Read in chunks\n",
    "for chunk in pd.read_csv(file_path, usecols=[column_name], chunksize=100000):\n",
    "    col_data.append(chunk)\n",
    "\n",
    "# Combine all chunks into one Series\n",
    "result1 = pd.concat(col_data, ignore_index=True)"
   ]
  },
  {
   "cell_type": "code",
   "execution_count": null,
   "id": "9c2039e5-6fa2-45ed-aec4-c90f314c2528",
   "metadata": {},
   "outputs": [],
   "source": [
    "import matplotlib.pyplot as plt\n",
    "\n",
    "plt.plot(result1)\n",
    "print(len(result1))"
   ]
  },
  {
   "cell_type": "code",
   "execution_count": null,
   "id": "4c3ec015-f4bc-4832-b292-de4984262536",
   "metadata": {},
   "outputs": [],
   "source": [
    "print(result1[0:20])\n",
    "print(result[0:20])"
   ]
  },
  {
   "cell_type": "markdown",
   "id": "b0ddce81-c7fd-4a2d-989f-92aa3f5a3268",
   "metadata": {},
   "source": [
    "## Remove NaNs; replace with zeros."
   ]
  },
  {
   "cell_type": "code",
   "execution_count": 34,
   "id": "d0a41a92-7929-4dbb-b266-f2ebc6b82a91",
   "metadata": {},
   "outputs": [],
   "source": [
    "import pandas as pd\n",
    "\n",
    "observatory = 'LER'\n",
    "PATH = '/mnt/c/users/s1725621/Documents/PhDCode/Git/CrossformerTimeSeries/Data/'\n",
    "\n",
    "input_file = PATH+'OMNImerge'+observatory+'19982020withPosEnc_reorderedCHAOS.csv'\n",
    "output_file = PATH+'OMNImerge'+observatory+'19982020withPosEnc_reorderedCHAOS8NaNszeros.csv'\n",
    "\n",
    "chunksize = 500000  # adjust based on your RAM\n",
    "\n",
    "with pd.read_csv(input_file, chunksize=chunksize) as reader:\n",
    "    for i, chunk in enumerate(reader):\n",
    "\n",
    "        chunk = chunk.fillna(0)\n",
    "        \n",
    "        # Move 'Unnamed: 0' to the last column\n",
    "        if 'Unnamed: 0' in chunk.columns:\n",
    "            cols = [c for c in chunk.columns if c != 'Unnamed: 0'] + ['Unnamed: 0']\n",
    "            chunk = chunk[cols]\n",
    "\n",
    "        # Optionally, convert the last column to float64\n",
    "        last_col_name = chunk.columns[-1]\n",
    "        chunk[last_col_name] = chunk[last_col_name].astype('float64')\n",
    "\n",
    "        # Write to CSV\n",
    "        if i == 0:\n",
    "            chunk.to_csv(output_file, index=False)\n",
    "        else:\n",
    "            chunk.to_csv(output_file, index=False, mode='a', header=False)"
   ]
  },
  {
   "cell_type": "code",
   "execution_count": null,
   "id": "7fecfd19-5270-410c-b257-da2832a25268",
   "metadata": {},
   "outputs": [],
   "source": [
    "import pandas as pd\n",
    "\n",
    "observatory = 'LER'\n",
    "PATH = '/mnt/c/users/s1725621/Documents/PhDCode/Git/CrossformerTimeSeries/Data/'\n",
    "input_file = PATH + f'OMNImerge{observatory}19982020withPosEnc_reordered_NaNszeros.csv'\n",
    "\n",
    "# Read only first few rows to infer dtypes\n",
    "sample = pd.read_csv(input_file, nrows=1000)  # small sample\n",
    "print(sample.dtypes)"
   ]
  },
  {
   "cell_type": "code",
   "execution_count": null,
   "id": "4d1cfd30-0141-4402-8351-26422c06589c",
   "metadata": {},
   "outputs": [],
   "source": [
    "import pandas as pd\n",
    "\n",
    "# Path to your big file\n",
    "file_path = PATH + f'OMNImerge{observatory}19982020withPosEnc_reordered_NaNszeros.csv'\n",
    "\n",
    "# Column you want to extract\n",
    "column_name = 'flow_speed'\n",
    "\n",
    "# Create an iterator to read only that column\n",
    "col_data = []\n",
    "\n",
    "# Read in chunks\n",
    "for chunk in pd.read_csv(file_path, usecols=[column_name], chunksize=100000):\n",
    "    col_data.append(chunk)\n",
    "\n",
    "# Combine all chunks into one Series\n",
    "result1 = pd.concat(col_data, ignore_index=True)"
   ]
  },
  {
   "cell_type": "code",
   "execution_count": null,
   "id": "d96909ca-a2fb-4281-8f14-31c8162b77fa",
   "metadata": {},
   "outputs": [],
   "source": [
    "import matplotlib.pyplot as plt\n",
    "\n",
    "plt.plot(result1)\n",
    "print(len(result1))"
   ]
  },
  {
   "cell_type": "code",
   "execution_count": null,
   "id": "0b3fb491-c30e-4fbd-b036-4060918df5ae",
   "metadata": {},
   "outputs": [],
   "source": [
    "print(result1[0:20])\n",
    "print(result[0:20])"
   ]
  },
  {
   "cell_type": "code",
   "execution_count": null,
   "id": "bb31c1a0-556f-47b7-ae80-15102036621f",
   "metadata": {},
   "outputs": [],
   "source": [
    "with pd.read_csv(input_file, chunksize=chunksize) as reader:\n",
    "    for i, chunk in enumerate(reader):\n",
    "        # Replace NaNs with zeros\n",
    "        chunk = chunk.fillna(0)\n",
    "\n",
    "        # Verify no NaNs remain\n",
    "        if chunk.isna().any().any():\n",
    "            raise ValueError(f\"NaNs still present in chunk {i}\")\n",
    "\n",
    "        # Move 'Unnamed: 0' to the last column\n",
    "        if 'Unnamed: 0' in chunk.columns:\n",
    "            cols = [c for c in chunk.columns if c != 'Unnamed: 0'] + ['Unnamed: 0']\n",
    "            chunk = chunk[cols]\n",
    "\n",
    "        # Optionally, convert the last column to float64\n",
    "        last_col_name = chunk.columns[-1]\n",
    "        chunk[last_col_name] = chunk[last_col_name].astype('float64')\n",
    "\n",
    "        # Write to CSV\n",
    "        if i == 0:\n",
    "            chunk.to_csv(output_file, index=False)\n",
    "        else:\n",
    "            chunk.to_csv(output_file, index=False, mode='a', header=False)"
   ]
  },
  {
   "cell_type": "code",
   "execution_count": null,
   "id": "91f54aaf-2a47-43c2-a943-43de92995538",
   "metadata": {},
   "outputs": [],
   "source": [
    "import pandas as pd\n",
    "\n",
    "# Path to your big file\n",
    "file_path = PATH + f'OMNImerge{observatory}19982020withPosEnc_reordered_NaNszeros.csv'\n",
    "\n",
    "# Column you want to extract\n",
    "column_name = 'B_N'\n",
    "\n",
    "# Create an iterator to read only that column\n",
    "col_data = []\n",
    "\n",
    "# Read in chunks\n",
    "for chunk in pd.read_csv(file_path, usecols=[column_name], chunksize=100000):\n",
    "    col_data.append(chunk)\n",
    "\n",
    "# Combine all chunks into one Series\n",
    "result1 = pd.concat(col_data, ignore_index=True)"
   ]
  },
  {
   "cell_type": "code",
   "execution_count": null,
   "id": "58decad0-2a47-4ef5-81ee-7ee816d39f07",
   "metadata": {},
   "outputs": [],
   "source": [
    "import matplotlib.pyplot as plt\n",
    "\n",
    "plt.plot(result1)\n",
    "print(len(result1))"
   ]
  },
  {
   "cell_type": "code",
   "execution_count": null,
   "id": "ecb2538f-8b41-411a-bbc0-387c38e5bd27",
   "metadata": {},
   "outputs": [],
   "source": [
    "print(result1.iloc[-1])"
   ]
  },
  {
   "cell_type": "code",
   "execution_count": null,
   "id": "48f6bbca-bb13-4bbf-bab5-91953e5ecc21",
   "metadata": {},
   "outputs": [],
   "source": [
    "import pandas as pd\n",
    "\n",
    "filename = PATH + f'OMNImerge{observatory}19982020withPosEnc_reordered_NaNszeros.csv'\n",
    "chunksize = 1000000  # adjust for memory limits\n",
    "\n",
    "total_rows = None\n",
    "row_count = 0\n",
    "\n",
    "for chunk_index, chunk in enumerate(pd.read_csv(filename, chunksize=chunksize)):\n",
    "    # Check if all columns in this chunk have the same length\n",
    "    lengths = [len(chunk[col].dropna()) for col in chunk.columns]\n",
    "    if len(set(lengths)) != 1:\n",
    "        print(f\" Mismatch in chunk {chunk_index}: {lengths}\")\n",
    "    \n",
    "    # Track total row count\n",
    "    row_count += len(chunk)\n",
    "    \n",
    "    # Check if this chunk's row count matches previous chunks (should be same except maybe last one)\n",
    "    if total_rows is None:\n",
    "        total_rows = len(chunk)\n",
    "    elif len(chunk) != total_rows and chunk_index != 0:\n",
    "        print(f\"Chunk {chunk_index} has different row count: {len(chunk)}\")\n",
    "\n",
    "print(f\" Checked {row_count:,} rows\")"
   ]
  },
  {
   "cell_type": "code",
   "execution_count": null,
   "id": "c2b7b85e-2331-4cc4-81ff-626e46c60780",
   "metadata": {},
   "outputs": [],
   "source": [
    "import pandas as pd\n",
    "\n",
    "observatory = 'LER'\n",
    "PATH = '/mnt/c/users/s1725621/Documents/PhDCode/Git/CrossformerTimeSeries/Data/'\n",
    "\n",
    "input_file = PATH + f'OMNImerge{observatory}19982020withPosEnc_reordered_NaNszerosCHAOS8.csv'\n",
    "output_file = PATH + f'OMNImerge{observatory}19982020NaNspersistencenoPECHAOS8NaNszeros.csv'\n",
    "\n",
    "chunksize = 500000  # adjust based on your RAM\n",
    "\n",
    "# Columns you want to drop (edit as needed)\n",
    "columns_to_drop = [\"k\",\"PosEnc_0\", \"PosEnc_1\", \"PosEnc_2\", \"PosEnc_3\", \"PosEnc_4\", \"PosEnc_5\", \"PosEnc_6\", \n",
    "                   \"PosEnc_7\", \"PosEnc_8\", \"PosEnc_9\", \"PosEnc_10\", \"PosEnc_11\"]\n",
    "\n",
    "# Track total rows and column counts\n",
    "total_rows = 0\n",
    "total_counts = {}  # will hold running column counts\n",
    "\n",
    "with pd.read_csv(input_file, chunksize=chunksize) as reader:\n",
    "    for i, chunk in enumerate(reader):\n",
    "\n",
    "        chunk = chunk.fillna(0)\n",
    "        \n",
    "        # Drop unwanted columns first\n",
    "        chunk = chunk.drop(columns=[col for col in columns_to_drop if col in chunk.columns])\n",
    "\n",
    "        # Update totals\n",
    "        total_rows += len(chunk)\n",
    "        for col in chunk.columns:\n",
    "            total_counts[col] = total_counts.get(col, 0) + chunk[col].count()\n",
    "\n",
    "        # Show metadata for this chunk\n",
    "        print(f\"\\n--- Chunk {i} ---\")\n",
    "        print(\"Columns and types:\")\n",
    "        print(chunk.dtypes)\n",
    "        print(f\"Chunk length: {len(chunk)}\")\n",
    "        print(f\"Running total length: {total_rows}\")\n",
    "\n",
    "        # Write to CSV\n",
    "        if i == 0:\n",
    "            chunk.to_csv(output_file, index=False)\n",
    "        else:\n",
    "            chunk.to_csv(output_file, index=False, mode='a', header=False)\n",
    "\n",
    "# Final summary\n",
    "print(\"\\n=== FINAL SUMMARY ===\")\n",
    "print(f\"Total rows processed: {total_rows}\")\n",
    "print(\"\\nTotal non-null counts per column:\")\n",
    "for col, count in total_counts.items():\n",
    "    print(f\"{col}: {count}\")"
   ]
  },
  {
   "cell_type": "code",
   "execution_count": 35,
   "id": "225db194-a301-4ed5-836f-7e8d83715885",
   "metadata": {},
   "outputs": [
    {
     "name": "stdout",
     "output_type": "stream",
     "text": [
      " All 11,568,960 rows are consistent floats\n"
     ]
    }
   ],
   "source": [
    "import pandas as pd\n",
    "import numpy as np\n",
    "\n",
    "filename = PATH+'OMNImerge'+observatory+'19982020withPosEnc_reorderedCHAOS8NaNszeros.csv'\n",
    "chunksize = 1000000  # adjust for your RAM\n",
    "\n",
    "all_good = True\n",
    "total_rows = 0\n",
    "\n",
    "for i, chunk in enumerate(pd.read_csv(filename, chunksize=chunksize, dtype=str)):  \n",
    "    cols_to_check = chunk.columns[1:]\n",
    "    \n",
    "    # Convert to floats, force error if not possible\n",
    "    try:\n",
    "        chunk[cols_to_check] = chunk[cols_to_check].apply(pd.to_numeric, errors='raise')\n",
    "    except Exception as e:\n",
    "        print(f\"Non-float value found in chunk {i}: {e}\")\n",
    "        all_good = False\n",
    "        break  # Stop early if needed\n",
    "\n",
    "    # Check NaNs / Infs\n",
    "    if np.isnan(chunk[cols_to_check].values).any():\n",
    "        print(f\"NaN found in chunk {i}\")\n",
    "        all_good = False\n",
    "    if np.isinf(chunk[cols_to_check].values).any():\n",
    "        print(f\"Inf found in chunk {i}\")\n",
    "        all_good = False\n",
    "\n",
    "    # Check column lengths (after filtering)\n",
    "    col_lengths = [len(chunk[col]) for col in cols_to_check]\n",
    "    if len(set(col_lengths)) != 1:\n",
    "        print(f\"Column length mismatch in chunk {i}: {col_lengths}\")\n",
    "        all_good = False\n",
    "\n",
    "    total_rows += len(chunk)\n",
    "\n",
    "if all_good:\n",
    "    print(f\" All {total_rows:,} rows are consistent floats\")\n",
    "else:\n",
    "    print(\" Dataset has issues — see messages above\")"
   ]
  },
  {
   "cell_type": "code",
   "execution_count": null,
   "id": "11f85a21-613a-48e6-9d51-8130ea7b3e6b",
   "metadata": {},
   "outputs": [],
   "source": [
    "import pandas as pd\n",
    "\n",
    "# Path to your big file\n",
    "file_path = PATH + f'OMNImerge{observatory}19982020withPosEnc_reordered_NaNszeros.csv'\n",
    "\n",
    "# Column you want to extract\n",
    "column_name = '0'\n",
    "\n",
    "# Create an iterator to read only that column\n",
    "col_data = []\n",
    "\n",
    "# Read in chunks\n",
    "for chunk in pd.read_csv(file_path, usecols=[column_name], chunksize=100000):\n",
    "    col_data.append(chunk)\n",
    "\n",
    "# Combine all chunks into one Series\n",
    "result1 = pd.concat(col_data, ignore_index=True)"
   ]
  },
  {
   "cell_type": "code",
   "execution_count": null,
   "id": "b5476807-bfe2-4eb4-93af-415fde70ef6c",
   "metadata": {},
   "outputs": [],
   "source": [
    "import matplotlib.pyplot as plt\n",
    "\n",
    "plt.plot(result1)\n",
    "print(len(result1))"
   ]
  },
  {
   "cell_type": "code",
   "execution_count": null,
   "id": "780ea9d7-24c6-4149-81ee-6d2e0b260b33",
   "metadata": {},
   "outputs": [],
   "source": []
  },
  {
   "cell_type": "code",
   "execution_count": null,
   "id": "15b5c642-b792-4de2-a438-195e9b7e25b3",
   "metadata": {},
   "outputs": [],
   "source": []
  },
  {
   "cell_type": "code",
   "execution_count": null,
   "id": "4adb6281-1f33-4af1-a01d-6e629af183b0",
   "metadata": {},
   "outputs": [],
   "source": []
  },
  {
   "cell_type": "code",
   "execution_count": null,
   "id": "e9fc66ce-d34a-45fd-aae0-a79d2d214d72",
   "metadata": {},
   "outputs": [],
   "source": []
  },
  {
   "cell_type": "code",
   "execution_count": null,
   "id": "20e47d6e-6e57-4690-8cc1-be5f54b1f5d1",
   "metadata": {},
   "outputs": [],
   "source": []
  },
  {
   "cell_type": "code",
   "execution_count": null,
   "id": "afa8514c-8074-4e52-8724-8e525c49b3aa",
   "metadata": {},
   "outputs": [],
   "source": []
  },
  {
   "cell_type": "code",
   "execution_count": null,
   "id": "6d2d8246-31e4-4a32-8d3a-c29eb7f9b316",
   "metadata": {},
   "outputs": [],
   "source": []
  },
  {
   "cell_type": "code",
   "execution_count": null,
   "id": "ab7c9989-e173-4701-aeb0-e20735eca745",
   "metadata": {},
   "outputs": [],
   "source": []
  },
  {
   "cell_type": "code",
   "execution_count": null,
   "id": "8c3a7353-9b21-43eb-b04e-014f76792fe5",
   "metadata": {},
   "outputs": [],
   "source": []
  },
  {
   "cell_type": "code",
   "execution_count": null,
   "id": "97fa8fc1-9e36-4a74-b3c6-42625e67d128",
   "metadata": {},
   "outputs": [],
   "source": []
  },
  {
   "cell_type": "code",
   "execution_count": null,
   "id": "f947c96b-54c6-4a15-8549-35496538b3c7",
   "metadata": {},
   "outputs": [],
   "source": []
  },
  {
   "cell_type": "code",
   "execution_count": null,
   "id": "18b1f6fc-0780-45a0-8fa3-5caa964dc5e5",
   "metadata": {},
   "outputs": [],
   "source": []
  },
  {
   "cell_type": "code",
   "execution_count": null,
   "id": "6c385622-3858-4089-ae0d-4b9d45b0b238",
   "metadata": {},
   "outputs": [],
   "source": []
  },
  {
   "cell_type": "code",
   "execution_count": null,
   "id": "1ca64d6a-43ce-41d7-bccc-9f85332845d0",
   "metadata": {},
   "outputs": [],
   "source": []
  },
  {
   "cell_type": "code",
   "execution_count": null,
   "id": "c7697548-dca3-49c8-a835-7d8fd1c0fbdf",
   "metadata": {},
   "outputs": [],
   "source": []
  },
  {
   "cell_type": "code",
   "execution_count": null,
   "id": "4088eff1-6f47-4066-b308-d47143ba9add",
   "metadata": {},
   "outputs": [],
   "source": []
  }
 ],
 "metadata": {
  "kernelspec": {
   "display_name": "Python 3 (ipykernel)",
   "language": "python",
   "name": "python3"
  },
  "language_info": {
   "codemirror_mode": {
    "name": "ipython",
    "version": 3
   },
   "file_extension": ".py",
   "mimetype": "text/x-python",
   "name": "python",
   "nbconvert_exporter": "python",
   "pygments_lexer": "ipython3",
   "version": "3.10.12"
  }
 },
 "nbformat": 4,
 "nbformat_minor": 5
}
